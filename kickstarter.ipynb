{
 "cells": [
  {
   "cell_type": "markdown",
   "metadata": {},
   "source": [
    "# Kickstarter Project: Predict how much money a project received"
   ]
  },
  {
   "cell_type": "code",
   "execution_count": 1,
   "metadata": {},
   "outputs": [],
   "source": [
    "%load_ext autoreload\n",
    "%autoreload 2\n",
    "\n",
    "%matplotlib inline"
   ]
  },
  {
   "cell_type": "markdown",
   "metadata": {},
   "source": [
    "Loading packages"
   ]
  },
  {
   "cell_type": "code",
   "execution_count": 2,
   "metadata": {},
   "outputs": [
    {
     "name": "stderr",
     "output_type": "stream",
     "text": [
      "/Users/maxvu/anaconda3/envs/fastai-cpu/lib/python3.6/site-packages/dask/config.py:168: YAMLLoadWarning: calling yaml.load() without Loader=... is deprecated, as the default Loader is unsafe. Please read https://msg.pyyaml.org/load for full details.\n",
      "  data = yaml.load(f.read()) or {}\n",
      "/Users/maxvu/anaconda3/envs/fastai-cpu/lib/python3.6/site-packages/sklearn/utils/deprecation.py:144: FutureWarning: The sklearn.ensemble.forest module is  deprecated in version 0.22 and will be removed in version 0.24. The corresponding classes / functions should instead be imported from sklearn.ensemble. Anything that cannot be imported from sklearn.ensemble is now part of the private API.\n",
      "  warnings.warn(message, FutureWarning)\n"
     ]
    }
   ],
   "source": [
    "from fastai.imports import *\n",
    "from fastai.structured import *\n",
    "\n",
    "from pandas_summary import DataFrameSummary\n",
    "from sklearn.ensemble import RandomForestRegressor, RandomForestClassifier\n",
    "from IPython.display import display\n",
    "\n",
    "from sklearn import metrics"
   ]
  },
  {
   "cell_type": "markdown",
   "metadata": {},
   "source": [
    "## Initiating the project"
   ]
  },
  {
   "cell_type": "code",
   "execution_count": 3,
   "metadata": {},
   "outputs": [],
   "source": [
    "PATH = \"data/kickstarter/\""
   ]
  },
  {
   "cell_type": "code",
   "execution_count": 4,
   "metadata": {},
   "outputs": [
    {
     "name": "stdout",
     "output_type": "stream",
     "text": [
      "ks-projects-201612.csv ks-projects-201801.csv\r\n"
     ]
    }
   ],
   "source": [
    "!ls {PATH}"
   ]
  },
  {
   "cell_type": "code",
   "execution_count": 16,
   "metadata": {},
   "outputs": [],
   "source": [
    "df_raw = pd.read_csv(f'{PATH}ks-projects-201801.csv', low_memory=False, \n",
    "                     parse_dates=[\"deadline\", \"launched\"])"
   ]
  },
  {
   "cell_type": "code",
   "execution_count": 6,
   "metadata": {},
   "outputs": [],
   "source": [
    "def display_all(df):\n",
    "    with pd.option_context(\"display.max_rows\", 1000, \"display.max_columns\", 1000):\n",
    "        display(df)"
   ]
  },
  {
   "cell_type": "code",
   "execution_count": 7,
   "metadata": {},
   "outputs": [
    {
     "data": {
      "text/html": [
       "<div>\n",
       "<style scoped>\n",
       "    .dataframe tbody tr th:only-of-type {\n",
       "        vertical-align: middle;\n",
       "    }\n",
       "\n",
       "    .dataframe tbody tr th {\n",
       "        vertical-align: top;\n",
       "    }\n",
       "\n",
       "    .dataframe thead th {\n",
       "        text-align: right;\n",
       "    }\n",
       "</style>\n",
       "<table border=\"1\" class=\"dataframe\">\n",
       "  <thead>\n",
       "    <tr style=\"text-align: right;\">\n",
       "      <th></th>\n",
       "      <th>378656</th>\n",
       "      <th>378657</th>\n",
       "      <th>378658</th>\n",
       "      <th>378659</th>\n",
       "      <th>378660</th>\n",
       "    </tr>\n",
       "  </thead>\n",
       "  <tbody>\n",
       "    <tr>\n",
       "      <th>ID</th>\n",
       "      <td>999976400</td>\n",
       "      <td>999977640</td>\n",
       "      <td>999986353</td>\n",
       "      <td>999987933</td>\n",
       "      <td>999988282</td>\n",
       "    </tr>\n",
       "    <tr>\n",
       "      <th>name</th>\n",
       "      <td>ChknTruk Nationwide Charity Drive 2014 (Canceled)</td>\n",
       "      <td>The Tribe</td>\n",
       "      <td>Walls of Remedy- New lesbian Romantic Comedy f...</td>\n",
       "      <td>BioDefense Education Kit</td>\n",
       "      <td>Nou Renmen Ayiti!  We Love Haiti!</td>\n",
       "    </tr>\n",
       "    <tr>\n",
       "      <th>category</th>\n",
       "      <td>Documentary</td>\n",
       "      <td>Narrative Film</td>\n",
       "      <td>Narrative Film</td>\n",
       "      <td>Technology</td>\n",
       "      <td>Performance Art</td>\n",
       "    </tr>\n",
       "    <tr>\n",
       "      <th>main_category</th>\n",
       "      <td>Film &amp; Video</td>\n",
       "      <td>Film &amp; Video</td>\n",
       "      <td>Film &amp; Video</td>\n",
       "      <td>Technology</td>\n",
       "      <td>Art</td>\n",
       "    </tr>\n",
       "    <tr>\n",
       "      <th>currency</th>\n",
       "      <td>USD</td>\n",
       "      <td>USD</td>\n",
       "      <td>USD</td>\n",
       "      <td>USD</td>\n",
       "      <td>USD</td>\n",
       "    </tr>\n",
       "    <tr>\n",
       "      <th>deadline</th>\n",
       "      <td>2014-10-17 00:00:00</td>\n",
       "      <td>2011-07-19 00:00:00</td>\n",
       "      <td>2010-08-16 00:00:00</td>\n",
       "      <td>2016-02-13 00:00:00</td>\n",
       "      <td>2011-08-16 00:00:00</td>\n",
       "    </tr>\n",
       "    <tr>\n",
       "      <th>goal</th>\n",
       "      <td>50000</td>\n",
       "      <td>1500</td>\n",
       "      <td>15000</td>\n",
       "      <td>15000</td>\n",
       "      <td>2000</td>\n",
       "    </tr>\n",
       "    <tr>\n",
       "      <th>launched</th>\n",
       "      <td>2014-09-17 02:35:30</td>\n",
       "      <td>2011-06-22 03:35:14</td>\n",
       "      <td>2010-07-01 19:40:30</td>\n",
       "      <td>2016-01-13 18:13:53</td>\n",
       "      <td>2011-07-19 09:07:47</td>\n",
       "    </tr>\n",
       "    <tr>\n",
       "      <th>pledged</th>\n",
       "      <td>25</td>\n",
       "      <td>155</td>\n",
       "      <td>20</td>\n",
       "      <td>200</td>\n",
       "      <td>524</td>\n",
       "    </tr>\n",
       "    <tr>\n",
       "      <th>state</th>\n",
       "      <td>canceled</td>\n",
       "      <td>failed</td>\n",
       "      <td>failed</td>\n",
       "      <td>failed</td>\n",
       "      <td>failed</td>\n",
       "    </tr>\n",
       "    <tr>\n",
       "      <th>backers</th>\n",
       "      <td>1</td>\n",
       "      <td>5</td>\n",
       "      <td>1</td>\n",
       "      <td>6</td>\n",
       "      <td>17</td>\n",
       "    </tr>\n",
       "    <tr>\n",
       "      <th>country</th>\n",
       "      <td>US</td>\n",
       "      <td>US</td>\n",
       "      <td>US</td>\n",
       "      <td>US</td>\n",
       "      <td>US</td>\n",
       "    </tr>\n",
       "    <tr>\n",
       "      <th>usd pledged</th>\n",
       "      <td>25</td>\n",
       "      <td>155</td>\n",
       "      <td>20</td>\n",
       "      <td>200</td>\n",
       "      <td>524</td>\n",
       "    </tr>\n",
       "    <tr>\n",
       "      <th>usd_pledged_real</th>\n",
       "      <td>25</td>\n",
       "      <td>155</td>\n",
       "      <td>20</td>\n",
       "      <td>200</td>\n",
       "      <td>524</td>\n",
       "    </tr>\n",
       "    <tr>\n",
       "      <th>usd_goal_real</th>\n",
       "      <td>50000</td>\n",
       "      <td>1500</td>\n",
       "      <td>15000</td>\n",
       "      <td>15000</td>\n",
       "      <td>2000</td>\n",
       "    </tr>\n",
       "  </tbody>\n",
       "</table>\n",
       "</div>"
      ],
      "text/plain": [
       "                                                             378656  \\\n",
       "ID                                                        999976400   \n",
       "name              ChknTruk Nationwide Charity Drive 2014 (Canceled)   \n",
       "category                                                Documentary   \n",
       "main_category                                          Film & Video   \n",
       "currency                                                        USD   \n",
       "deadline                                        2014-10-17 00:00:00   \n",
       "goal                                                          50000   \n",
       "launched                                        2014-09-17 02:35:30   \n",
       "pledged                                                          25   \n",
       "state                                                      canceled   \n",
       "backers                                                           1   \n",
       "country                                                          US   \n",
       "usd pledged                                                      25   \n",
       "usd_pledged_real                                                 25   \n",
       "usd_goal_real                                                 50000   \n",
       "\n",
       "                               378657  \\\n",
       "ID                          999977640   \n",
       "name                        The Tribe   \n",
       "category               Narrative Film   \n",
       "main_category            Film & Video   \n",
       "currency                          USD   \n",
       "deadline          2011-07-19 00:00:00   \n",
       "goal                             1500   \n",
       "launched          2011-06-22 03:35:14   \n",
       "pledged                           155   \n",
       "state                          failed   \n",
       "backers                             5   \n",
       "country                            US   \n",
       "usd pledged                       155   \n",
       "usd_pledged_real                  155   \n",
       "usd_goal_real                    1500   \n",
       "\n",
       "                                                             378658  \\\n",
       "ID                                                        999986353   \n",
       "name              Walls of Remedy- New lesbian Romantic Comedy f...   \n",
       "category                                             Narrative Film   \n",
       "main_category                                          Film & Video   \n",
       "currency                                                        USD   \n",
       "deadline                                        2010-08-16 00:00:00   \n",
       "goal                                                          15000   \n",
       "launched                                        2010-07-01 19:40:30   \n",
       "pledged                                                          20   \n",
       "state                                                        failed   \n",
       "backers                                                           1   \n",
       "country                                                          US   \n",
       "usd pledged                                                      20   \n",
       "usd_pledged_real                                                 20   \n",
       "usd_goal_real                                                 15000   \n",
       "\n",
       "                                    378659                             378660  \n",
       "ID                               999987933                          999988282  \n",
       "name              BioDefense Education Kit  Nou Renmen Ayiti!  We Love Haiti!  \n",
       "category                        Technology                    Performance Art  \n",
       "main_category                   Technology                                Art  \n",
       "currency                               USD                                USD  \n",
       "deadline               2016-02-13 00:00:00                2011-08-16 00:00:00  \n",
       "goal                                 15000                               2000  \n",
       "launched               2016-01-13 18:13:53                2011-07-19 09:07:47  \n",
       "pledged                                200                                524  \n",
       "state                               failed                             failed  \n",
       "backers                                  6                                 17  \n",
       "country                                 US                                 US  \n",
       "usd pledged                            200                                524  \n",
       "usd_pledged_real                       200                                524  \n",
       "usd_goal_real                        15000                               2000  "
      ]
     },
     "metadata": {},
     "output_type": "display_data"
    }
   ],
   "source": [
    "display_all(df_raw.tail().T)"
   ]
  },
  {
   "cell_type": "code",
   "execution_count": 8,
   "metadata": {},
   "outputs": [
    {
     "data": {
      "text/html": [
       "<div>\n",
       "<style scoped>\n",
       "    .dataframe tbody tr th:only-of-type {\n",
       "        vertical-align: middle;\n",
       "    }\n",
       "\n",
       "    .dataframe tbody tr th {\n",
       "        vertical-align: top;\n",
       "    }\n",
       "\n",
       "    .dataframe thead th {\n",
       "        text-align: right;\n",
       "    }\n",
       "</style>\n",
       "<table border=\"1\" class=\"dataframe\">\n",
       "  <thead>\n",
       "    <tr style=\"text-align: right;\">\n",
       "      <th></th>\n",
       "      <th>count</th>\n",
       "      <th>unique</th>\n",
       "      <th>top</th>\n",
       "      <th>freq</th>\n",
       "      <th>first</th>\n",
       "      <th>last</th>\n",
       "      <th>mean</th>\n",
       "      <th>std</th>\n",
       "      <th>min</th>\n",
       "      <th>25%</th>\n",
       "      <th>50%</th>\n",
       "      <th>75%</th>\n",
       "      <th>max</th>\n",
       "    </tr>\n",
       "  </thead>\n",
       "  <tbody>\n",
       "    <tr>\n",
       "      <th>ID</th>\n",
       "      <td>378661</td>\n",
       "      <td>NaN</td>\n",
       "      <td>NaN</td>\n",
       "      <td>NaN</td>\n",
       "      <td>NaT</td>\n",
       "      <td>NaT</td>\n",
       "      <td>1.07473e+09</td>\n",
       "      <td>6.19086e+08</td>\n",
       "      <td>5971</td>\n",
       "      <td>5.38264e+08</td>\n",
       "      <td>1.07528e+09</td>\n",
       "      <td>1.61015e+09</td>\n",
       "      <td>2.14748e+09</td>\n",
       "    </tr>\n",
       "    <tr>\n",
       "      <th>name</th>\n",
       "      <td>378657</td>\n",
       "      <td>375764</td>\n",
       "      <td>New EP/Music Development</td>\n",
       "      <td>41</td>\n",
       "      <td>NaT</td>\n",
       "      <td>NaT</td>\n",
       "      <td>NaN</td>\n",
       "      <td>NaN</td>\n",
       "      <td>NaN</td>\n",
       "      <td>NaN</td>\n",
       "      <td>NaN</td>\n",
       "      <td>NaN</td>\n",
       "      <td>NaN</td>\n",
       "    </tr>\n",
       "    <tr>\n",
       "      <th>category</th>\n",
       "      <td>378661</td>\n",
       "      <td>159</td>\n",
       "      <td>Product Design</td>\n",
       "      <td>22314</td>\n",
       "      <td>NaT</td>\n",
       "      <td>NaT</td>\n",
       "      <td>NaN</td>\n",
       "      <td>NaN</td>\n",
       "      <td>NaN</td>\n",
       "      <td>NaN</td>\n",
       "      <td>NaN</td>\n",
       "      <td>NaN</td>\n",
       "      <td>NaN</td>\n",
       "    </tr>\n",
       "    <tr>\n",
       "      <th>main_category</th>\n",
       "      <td>378661</td>\n",
       "      <td>15</td>\n",
       "      <td>Film &amp; Video</td>\n",
       "      <td>63585</td>\n",
       "      <td>NaT</td>\n",
       "      <td>NaT</td>\n",
       "      <td>NaN</td>\n",
       "      <td>NaN</td>\n",
       "      <td>NaN</td>\n",
       "      <td>NaN</td>\n",
       "      <td>NaN</td>\n",
       "      <td>NaN</td>\n",
       "      <td>NaN</td>\n",
       "    </tr>\n",
       "    <tr>\n",
       "      <th>currency</th>\n",
       "      <td>378661</td>\n",
       "      <td>14</td>\n",
       "      <td>USD</td>\n",
       "      <td>295365</td>\n",
       "      <td>NaT</td>\n",
       "      <td>NaT</td>\n",
       "      <td>NaN</td>\n",
       "      <td>NaN</td>\n",
       "      <td>NaN</td>\n",
       "      <td>NaN</td>\n",
       "      <td>NaN</td>\n",
       "      <td>NaN</td>\n",
       "      <td>NaN</td>\n",
       "    </tr>\n",
       "    <tr>\n",
       "      <th>deadline</th>\n",
       "      <td>378661</td>\n",
       "      <td>3164</td>\n",
       "      <td>2014-08-08 00:00:00</td>\n",
       "      <td>705</td>\n",
       "      <td>2009-05-03 00:00:00</td>\n",
       "      <td>2018-03-03 00:00:00</td>\n",
       "      <td>NaN</td>\n",
       "      <td>NaN</td>\n",
       "      <td>NaN</td>\n",
       "      <td>NaN</td>\n",
       "      <td>NaN</td>\n",
       "      <td>NaN</td>\n",
       "      <td>NaN</td>\n",
       "    </tr>\n",
       "    <tr>\n",
       "      <th>goal</th>\n",
       "      <td>378661</td>\n",
       "      <td>NaN</td>\n",
       "      <td>NaN</td>\n",
       "      <td>NaN</td>\n",
       "      <td>NaT</td>\n",
       "      <td>NaT</td>\n",
       "      <td>49080.8</td>\n",
       "      <td>1.18339e+06</td>\n",
       "      <td>0.01</td>\n",
       "      <td>2000</td>\n",
       "      <td>5200</td>\n",
       "      <td>16000</td>\n",
       "      <td>1e+08</td>\n",
       "    </tr>\n",
       "    <tr>\n",
       "      <th>launched</th>\n",
       "      <td>378661</td>\n",
       "      <td>378089</td>\n",
       "      <td>1970-01-01 01:00:00</td>\n",
       "      <td>7</td>\n",
       "      <td>1970-01-01 01:00:00</td>\n",
       "      <td>2018-01-02 15:02:31</td>\n",
       "      <td>NaN</td>\n",
       "      <td>NaN</td>\n",
       "      <td>NaN</td>\n",
       "      <td>NaN</td>\n",
       "      <td>NaN</td>\n",
       "      <td>NaN</td>\n",
       "      <td>NaN</td>\n",
       "    </tr>\n",
       "    <tr>\n",
       "      <th>pledged</th>\n",
       "      <td>378661</td>\n",
       "      <td>NaN</td>\n",
       "      <td>NaN</td>\n",
       "      <td>NaN</td>\n",
       "      <td>NaT</td>\n",
       "      <td>NaT</td>\n",
       "      <td>9682.98</td>\n",
       "      <td>95636</td>\n",
       "      <td>0</td>\n",
       "      <td>30</td>\n",
       "      <td>620</td>\n",
       "      <td>4076</td>\n",
       "      <td>2.0339e+07</td>\n",
       "    </tr>\n",
       "    <tr>\n",
       "      <th>state</th>\n",
       "      <td>378661</td>\n",
       "      <td>6</td>\n",
       "      <td>failed</td>\n",
       "      <td>197719</td>\n",
       "      <td>NaT</td>\n",
       "      <td>NaT</td>\n",
       "      <td>NaN</td>\n",
       "      <td>NaN</td>\n",
       "      <td>NaN</td>\n",
       "      <td>NaN</td>\n",
       "      <td>NaN</td>\n",
       "      <td>NaN</td>\n",
       "      <td>NaN</td>\n",
       "    </tr>\n",
       "    <tr>\n",
       "      <th>backers</th>\n",
       "      <td>378661</td>\n",
       "      <td>NaN</td>\n",
       "      <td>NaN</td>\n",
       "      <td>NaN</td>\n",
       "      <td>NaT</td>\n",
       "      <td>NaT</td>\n",
       "      <td>105.617</td>\n",
       "      <td>907.185</td>\n",
       "      <td>0</td>\n",
       "      <td>2</td>\n",
       "      <td>12</td>\n",
       "      <td>56</td>\n",
       "      <td>219382</td>\n",
       "    </tr>\n",
       "    <tr>\n",
       "      <th>country</th>\n",
       "      <td>378661</td>\n",
       "      <td>23</td>\n",
       "      <td>US</td>\n",
       "      <td>292627</td>\n",
       "      <td>NaT</td>\n",
       "      <td>NaT</td>\n",
       "      <td>NaN</td>\n",
       "      <td>NaN</td>\n",
       "      <td>NaN</td>\n",
       "      <td>NaN</td>\n",
       "      <td>NaN</td>\n",
       "      <td>NaN</td>\n",
       "      <td>NaN</td>\n",
       "    </tr>\n",
       "    <tr>\n",
       "      <th>usd pledged</th>\n",
       "      <td>374864</td>\n",
       "      <td>NaN</td>\n",
       "      <td>NaN</td>\n",
       "      <td>NaN</td>\n",
       "      <td>NaT</td>\n",
       "      <td>NaT</td>\n",
       "      <td>7036.73</td>\n",
       "      <td>78639.7</td>\n",
       "      <td>0</td>\n",
       "      <td>16.98</td>\n",
       "      <td>394.72</td>\n",
       "      <td>3034.09</td>\n",
       "      <td>2.0339e+07</td>\n",
       "    </tr>\n",
       "    <tr>\n",
       "      <th>usd_pledged_real</th>\n",
       "      <td>378661</td>\n",
       "      <td>NaN</td>\n",
       "      <td>NaN</td>\n",
       "      <td>NaN</td>\n",
       "      <td>NaT</td>\n",
       "      <td>NaT</td>\n",
       "      <td>9058.92</td>\n",
       "      <td>90973.3</td>\n",
       "      <td>0</td>\n",
       "      <td>31</td>\n",
       "      <td>624.33</td>\n",
       "      <td>4050</td>\n",
       "      <td>2.0339e+07</td>\n",
       "    </tr>\n",
       "    <tr>\n",
       "      <th>usd_goal_real</th>\n",
       "      <td>378661</td>\n",
       "      <td>NaN</td>\n",
       "      <td>NaN</td>\n",
       "      <td>NaN</td>\n",
       "      <td>NaT</td>\n",
       "      <td>NaT</td>\n",
       "      <td>45454.4</td>\n",
       "      <td>1.15295e+06</td>\n",
       "      <td>0.01</td>\n",
       "      <td>2000</td>\n",
       "      <td>5500</td>\n",
       "      <td>15500</td>\n",
       "      <td>1.66361e+08</td>\n",
       "    </tr>\n",
       "  </tbody>\n",
       "</table>\n",
       "</div>"
      ],
      "text/plain": [
       "                   count  unique                       top    freq  \\\n",
       "ID                378661     NaN                       NaN     NaN   \n",
       "name              378657  375764  New EP/Music Development      41   \n",
       "category          378661     159            Product Design   22314   \n",
       "main_category     378661      15              Film & Video   63585   \n",
       "currency          378661      14                       USD  295365   \n",
       "deadline          378661    3164       2014-08-08 00:00:00     705   \n",
       "goal              378661     NaN                       NaN     NaN   \n",
       "launched          378661  378089       1970-01-01 01:00:00       7   \n",
       "pledged           378661     NaN                       NaN     NaN   \n",
       "state             378661       6                    failed  197719   \n",
       "backers           378661     NaN                       NaN     NaN   \n",
       "country           378661      23                        US  292627   \n",
       "usd pledged       374864     NaN                       NaN     NaN   \n",
       "usd_pledged_real  378661     NaN                       NaN     NaN   \n",
       "usd_goal_real     378661     NaN                       NaN     NaN   \n",
       "\n",
       "                               first                last         mean  \\\n",
       "ID                               NaT                 NaT  1.07473e+09   \n",
       "name                             NaT                 NaT          NaN   \n",
       "category                         NaT                 NaT          NaN   \n",
       "main_category                    NaT                 NaT          NaN   \n",
       "currency                         NaT                 NaT          NaN   \n",
       "deadline         2009-05-03 00:00:00 2018-03-03 00:00:00          NaN   \n",
       "goal                             NaT                 NaT      49080.8   \n",
       "launched         1970-01-01 01:00:00 2018-01-02 15:02:31          NaN   \n",
       "pledged                          NaT                 NaT      9682.98   \n",
       "state                            NaT                 NaT          NaN   \n",
       "backers                          NaT                 NaT      105.617   \n",
       "country                          NaT                 NaT          NaN   \n",
       "usd pledged                      NaT                 NaT      7036.73   \n",
       "usd_pledged_real                 NaT                 NaT      9058.92   \n",
       "usd_goal_real                    NaT                 NaT      45454.4   \n",
       "\n",
       "                          std   min          25%          50%          75%  \\\n",
       "ID                6.19086e+08  5971  5.38264e+08  1.07528e+09  1.61015e+09   \n",
       "name                      NaN   NaN          NaN          NaN          NaN   \n",
       "category                  NaN   NaN          NaN          NaN          NaN   \n",
       "main_category             NaN   NaN          NaN          NaN          NaN   \n",
       "currency                  NaN   NaN          NaN          NaN          NaN   \n",
       "deadline                  NaN   NaN          NaN          NaN          NaN   \n",
       "goal              1.18339e+06  0.01         2000         5200        16000   \n",
       "launched                  NaN   NaN          NaN          NaN          NaN   \n",
       "pledged                 95636     0           30          620         4076   \n",
       "state                     NaN   NaN          NaN          NaN          NaN   \n",
       "backers               907.185     0            2           12           56   \n",
       "country                   NaN   NaN          NaN          NaN          NaN   \n",
       "usd pledged           78639.7     0        16.98       394.72      3034.09   \n",
       "usd_pledged_real      90973.3     0           31       624.33         4050   \n",
       "usd_goal_real     1.15295e+06  0.01         2000         5500        15500   \n",
       "\n",
       "                          max  \n",
       "ID                2.14748e+09  \n",
       "name                      NaN  \n",
       "category                  NaN  \n",
       "main_category             NaN  \n",
       "currency                  NaN  \n",
       "deadline                  NaN  \n",
       "goal                    1e+08  \n",
       "launched                  NaN  \n",
       "pledged            2.0339e+07  \n",
       "state                     NaN  \n",
       "backers                219382  \n",
       "country                   NaN  \n",
       "usd pledged        2.0339e+07  \n",
       "usd_pledged_real   2.0339e+07  \n",
       "usd_goal_real     1.66361e+08  "
      ]
     },
     "metadata": {},
     "output_type": "display_data"
    }
   ],
   "source": [
    "display_all(df_raw.describe(include='all').T)"
   ]
  },
  {
   "cell_type": "markdown",
   "metadata": {},
   "source": [
    "Quick insights: \n",
    "* There are 378,661 projects listed in this dataset.\n",
    "* The top main category is Film & Video out of 15 categories. The top category is Product Design. \n",
    "* Kickstarter projects are funded with 14 different currencies, with most funded in USD.\n",
    "* Projects come from 23 different countries, with most in the United States.\n",
    "* The average goal for each project in USD is 45454.40.\n",
    "* The average pledges amount 9058.82. Roughly speaking, most projects are only 20% funded. \n",
    "* Most projects have the failed status -> 197,719 of them!"
   ]
  },
  {
   "cell_type": "markdown",
   "metadata": {},
   "source": [
    "## 'Massaging the data'"
   ]
  },
  {
   "cell_type": "markdown",
   "metadata": {},
   "source": [
    "We are dropping values that are related to currency not in real USD."
   ]
  },
  {
   "cell_type": "code",
   "execution_count": 17,
   "metadata": {},
   "outputs": [],
   "source": [
    "df_raw = df_raw.drop(['pledged', 'usd pledged', 'goal'], axis=1)"
   ]
  },
  {
   "cell_type": "markdown",
   "metadata": {},
   "source": [
    "Add a column for duration between launch date and deadline"
   ]
  },
  {
   "cell_type": "code",
   "execution_count": 18,
   "metadata": {},
   "outputs": [],
   "source": [
    "df_raw['duration'] = df_raw.deadline - df_raw.launched"
   ]
  },
  {
   "cell_type": "code",
   "execution_count": 19,
   "metadata": {},
   "outputs": [],
   "source": [
    "df_raw['duration'] = df_raw.duration.dt.days"
   ]
  },
  {
   "cell_type": "markdown",
   "metadata": {},
   "source": [
    "Modify date for df_raw"
   ]
  },
  {
   "cell_type": "code",
   "execution_count": 20,
   "metadata": {},
   "outputs": [],
   "source": [
    "add_datepart(df_raw, 'deadline')"
   ]
  },
  {
   "cell_type": "code",
   "execution_count": 21,
   "metadata": {},
   "outputs": [],
   "source": [
    "add_datepart(df_raw, 'launched')"
   ]
  },
  {
   "cell_type": "markdown",
   "metadata": {},
   "source": [
    "Logging the currency calues"
   ]
  },
  {
   "cell_type": "code",
   "execution_count": 22,
   "metadata": {},
   "outputs": [],
   "source": [
    "df_raw['usd_pledged_real'] = np.log1p(df_raw['usd_pledged_real'])"
   ]
  },
  {
   "cell_type": "code",
   "execution_count": 23,
   "metadata": {},
   "outputs": [],
   "source": [
    "#df_raw['usd_goal_real'] = np.log(df_raw['usd_goal_real'])"
   ]
  },
  {
   "cell_type": "markdown",
   "metadata": {},
   "source": [
    "Convert things to category"
   ]
  },
  {
   "cell_type": "code",
   "execution_count": 24,
   "metadata": {},
   "outputs": [],
   "source": [
    "train_cats(df_raw)"
   ]
  },
  {
   "cell_type": "markdown",
   "metadata": {},
   "source": [
    "Check for missing values. These cannot be passed directly to random forest"
   ]
  },
  {
   "cell_type": "code",
   "execution_count": 25,
   "metadata": {},
   "outputs": [],
   "source": [
    "#display_all(df_raw.isnull().sum().sort_index()/len(df_raw))"
   ]
  },
  {
   "cell_type": "markdown",
   "metadata": {},
   "source": [
    "Save to feather"
   ]
  },
  {
   "cell_type": "code",
   "execution_count": 26,
   "metadata": {},
   "outputs": [],
   "source": [
    "os.makedirs('tmp', exist_ok=True)\n",
    "df_raw.to_feather('tmp/kickstarter-raw')"
   ]
  },
  {
   "cell_type": "markdown",
   "metadata": {},
   "source": [
    "### Our model will aim to predict the log value of the amount of dollars pledged in real USD"
   ]
  },
  {
   "cell_type": "markdown",
   "metadata": {},
   "source": [
    "## First step to modelling"
   ]
  },
  {
   "cell_type": "code",
   "execution_count": 27,
   "metadata": {},
   "outputs": [],
   "source": [
    "df_raw = pd.read_feather('tmp/kickstarter-raw')"
   ]
  },
  {
   "cell_type": "markdown",
   "metadata": {},
   "source": [
    "Split dependent variable from the set"
   ]
  },
  {
   "cell_type": "code",
   "execution_count": 28,
   "metadata": {},
   "outputs": [],
   "source": [
    "df, y, nas = proc_df(df_raw, 'usd_pledged_real')"
   ]
  },
  {
   "cell_type": "code",
   "execution_count": 29,
   "metadata": {},
   "outputs": [
    {
     "data": {
      "text/plain": [
       "(378661, 37)"
      ]
     },
     "execution_count": 29,
     "metadata": {},
     "output_type": "execute_result"
    }
   ],
   "source": [
    "df_raw.shape"
   ]
  },
  {
   "cell_type": "markdown",
   "metadata": {},
   "source": [
    "Split the dataset to training set and validation set"
   ]
  },
  {
   "cell_type": "code",
   "execution_count": 30,
   "metadata": {},
   "outputs": [],
   "source": [
    "def split_vals(a,n): return a[:n].copy(), a[n:].copy()\n",
    "\n",
    "n_valid = 12000\n",
    "n_trn = len(df)-n_valid"
   ]
  },
  {
   "cell_type": "code",
   "execution_count": 31,
   "metadata": {},
   "outputs": [
    {
     "data": {
      "text/plain": [
       "((366661, 36), (366661,), (12000, 36))"
      ]
     },
     "execution_count": 31,
     "metadata": {},
     "output_type": "execute_result"
    }
   ],
   "source": [
    "raw_train, raw_valid = split_vals(df_raw, n_trn)\n",
    "X_train, X_valid = split_vals(df, n_trn)\n",
    "y_train, y_valid = split_vals(y, n_trn)\n",
    "\n",
    "X_train.shape, y_train.shape, X_valid.shape"
   ]
  },
  {
   "cell_type": "markdown",
   "metadata": {},
   "source": [
    "A function to calculate score"
   ]
  },
  {
   "cell_type": "code",
   "execution_count": 32,
   "metadata": {},
   "outputs": [],
   "source": [
    "def rmse(x,y): return math.sqrt(((x-y)**2).mean())\n",
    "\n",
    "def print_score(m):\n",
    "    res = [rmse(m.predict(X_train), y_train), rmse(m.predict(X_valid), y_valid),\n",
    "                m.score(X_train, y_train), m.score(X_valid, y_valid)]\n",
    "    if hasattr(m, 'oob_score_'): res.append(m.oob_score_)\n",
    "    print(res)"
   ]
  },
  {
   "cell_type": "markdown",
   "metadata": {},
   "source": [
    "Use a smaller subset for faster training"
   ]
  },
  {
   "cell_type": "code",
   "execution_count": 33,
   "metadata": {},
   "outputs": [],
   "source": [
    "df_trn, y_trn, nas = proc_df(df_raw, 'usd_pledged_real', subset=30000, na_dict=nas)\n",
    "X_train, _ = split_vals(df_trn, 20000)\n",
    "y_train, _ = split_vals(y_trn, 20000)"
   ]
  },
  {
   "cell_type": "code",
   "execution_count": 34,
   "metadata": {},
   "outputs": [
    {
     "name": "stdout",
     "output_type": "stream",
     "text": [
      "CPU times: user 3.64 s, sys: 35.6 ms, total: 3.67 s\n",
      "Wall time: 1.2 s\n",
      "[0.3700649705619026, 0.8752678854281973, 0.9873961255207553, 0.930530935314201]\n"
     ]
    }
   ],
   "source": [
    "m = RandomForestRegressor(n_estimators=10, n_jobs=-1)\n",
    "%time m.fit(X_train, y_train)\n",
    "print_score(m)"
   ]
  },
  {
   "cell_type": "markdown",
   "metadata": {},
   "source": [
    "A model with 10 trees trained on a subset of 20,000 observations, we obtained a score of 0.9305 on the validation set"
   ]
  },
  {
   "cell_type": "markdown",
   "metadata": {},
   "source": [
    "## Single tree"
   ]
  },
  {
   "cell_type": "markdown",
   "metadata": {},
   "source": [
    "Creating a single tree"
   ]
  },
  {
   "cell_type": "code",
   "execution_count": 58,
   "metadata": {},
   "outputs": [
    {
     "name": "stdout",
     "output_type": "stream",
     "text": [
      "CPU times: user 119 ms, sys: 9.01 ms, total: 128 ms\n",
      "Wall time: 163 ms\n",
      "[1.029066876607123, 1.080417611078068, 0.9049893078079192, 0.8941495343104292]\n"
     ]
    }
   ],
   "source": [
    "m = RandomForestRegressor(n_estimators=1, max_depth=3, bootstrap=False, n_jobs=-1)\n",
    "%time m.fit(X_train, y_train)\n",
    "print_score(m)"
   ]
  },
  {
   "cell_type": "markdown",
   "metadata": {},
   "source": [
    "A single tree can score 0.8941 on the validation set. "
   ]
  },
  {
   "cell_type": "code",
   "execution_count": 59,
   "metadata": {},
   "outputs": [
    {
     "data": {
      "image/svg+xml": [
       "<?xml version=\"1.0\" encoding=\"UTF-8\" standalone=\"no\"?>\n",
       "<!DOCTYPE svg PUBLIC \"-//W3C//DTD SVG 1.1//EN\"\n",
       " \"http://www.w3.org/Graphics/SVG/1.1/DTD/svg11.dtd\">\n",
       "<!-- Generated by graphviz version 2.40.1 (20161225.0304)\n",
       " -->\n",
       "<!-- Title: Tree Pages: 1 -->\n",
       "<svg width=\"720pt\" height=\"434pt\"\n",
       " viewBox=\"0.00 0.00 720.00 434.49\" xmlns=\"http://www.w3.org/2000/svg\" xmlns:xlink=\"http://www.w3.org/1999/xlink\">\n",
       "<g id=\"graph0\" class=\"graph\" transform=\"scale(.7787 .7787) rotate(0) translate(4 554)\">\n",
       "<title>Tree</title>\n",
       "<polygon fill=\"#ffffff\" stroke=\"transparent\" points=\"-4,4 -4,-554 920.6667,-554 920.6667,4 -4,4\"/>\n",
       "<!-- 0 -->\n",
       "<g id=\"node1\" class=\"node\">\n",
       "<title>0</title>\n",
       "<polygon fill=\"#f1ba92\" stroke=\"#000000\" points=\"150.6667,-336.5 38.6667,-336.5 38.6667,-268.5 150.6667,-268.5 150.6667,-336.5\"/>\n",
       "<text text-anchor=\"start\" x=\"57.1667\" y=\"-321.3\" font-family=\"Times,serif\" font-size=\"14.00\" fill=\"#000000\">backers ≤ 4.5</text>\n",
       "<text text-anchor=\"start\" x=\"56.6667\" y=\"-306.3\" font-family=\"Times,serif\" font-size=\"14.00\" fill=\"#000000\">mse = 11.146</text>\n",
       "<text text-anchor=\"start\" x=\"46.6667\" y=\"-291.3\" font-family=\"Times,serif\" font-size=\"14.00\" fill=\"#000000\">samples = 20000</text>\n",
       "<text text-anchor=\"start\" x=\"56.1667\" y=\"-276.3\" font-family=\"Times,serif\" font-size=\"14.00\" fill=\"#000000\">value = 5.721</text>\n",
       "</g>\n",
       "<!-- 1 -->\n",
       "<g id=\"node2\" class=\"node\">\n",
       "<title>1</title>\n",
       "<polygon fill=\"#f9e4d5\" stroke=\"#000000\" points=\"397.1667,-372.5 292.1667,-372.5 292.1667,-304.5 397.1667,-304.5 397.1667,-372.5\"/>\n",
       "<text text-anchor=\"start\" x=\"307.1667\" y=\"-357.3\" font-family=\"Times,serif\" font-size=\"14.00\" fill=\"#000000\">backers ≤ 0.5</text>\n",
       "<text text-anchor=\"start\" x=\"310.1667\" y=\"-342.3\" font-family=\"Times,serif\" font-size=\"14.00\" fill=\"#000000\">mse = 4.783</text>\n",
       "<text text-anchor=\"start\" x=\"300.1667\" y=\"-327.3\" font-family=\"Times,serif\" font-size=\"14.00\" fill=\"#000000\">samples = 7580</text>\n",
       "<text text-anchor=\"start\" x=\"306.1667\" y=\"-312.3\" font-family=\"Times,serif\" font-size=\"14.00\" fill=\"#000000\">value = 2.219</text>\n",
       "</g>\n",
       "<!-- 0&#45;&gt;1 -->\n",
       "<g id=\"edge1\" class=\"edge\">\n",
       "<title>0&#45;&gt;1</title>\n",
       "<path fill=\"none\" stroke=\"#000000\" d=\"M150.7715,-310.5791C189.7896,-316.1977 241.8319,-323.6918 282.1758,-329.5013\"/>\n",
       "<polygon fill=\"#000000\" stroke=\"#000000\" points=\"281.7688,-332.9787 292.1656,-330.9399 282.7666,-326.0502 281.7688,-332.9787\"/>\n",
       "<text text-anchor=\"middle\" x=\"272.1489\" y=\"-342.2174\" font-family=\"Times,serif\" font-size=\"14.00\" fill=\"#000000\">True</text>\n",
       "</g>\n",
       "<!-- 8 -->\n",
       "<g id=\"node9\" class=\"node\">\n",
       "<title>8</title>\n",
       "<polygon fill=\"#eba069\" stroke=\"#000000\" points=\"400.6667,-245.5 288.6667,-245.5 288.6667,-177.5 400.6667,-177.5 400.6667,-245.5\"/>\n",
       "<text text-anchor=\"start\" x=\"303.6667\" y=\"-230.3\" font-family=\"Times,serif\" font-size=\"14.00\" fill=\"#000000\">backers ≤ 39.5</text>\n",
       "<text text-anchor=\"start\" x=\"310.1667\" y=\"-215.3\" font-family=\"Times,serif\" font-size=\"14.00\" fill=\"#000000\">mse = 2.975</text>\n",
       "<text text-anchor=\"start\" x=\"296.6667\" y=\"-200.3\" font-family=\"Times,serif\" font-size=\"14.00\" fill=\"#000000\">samples = 12420</text>\n",
       "<text text-anchor=\"start\" x=\"306.1667\" y=\"-185.3\" font-family=\"Times,serif\" font-size=\"14.00\" fill=\"#000000\">value = 7.859</text>\n",
       "</g>\n",
       "<!-- 0&#45;&gt;8 -->\n",
       "<g id=\"edge8\" class=\"edge\">\n",
       "<title>0&#45;&gt;8</title>\n",
       "<path fill=\"none\" stroke=\"#000000\" d=\"M150.7715,-282.0778C188.6753,-268.2808 238.87,-250.01 278.6913,-235.515\"/>\n",
       "<polygon fill=\"#000000\" stroke=\"#000000\" points=\"280.1174,-238.7207 288.3171,-232.0112 277.7231,-232.1429 280.1174,-238.7207\"/>\n",
       "<text text-anchor=\"middle\" x=\"265.6591\" y=\"-217.7464\" font-family=\"Times,serif\" font-size=\"14.00\" fill=\"#000000\">False</text>\n",
       "</g>\n",
       "<!-- 2 -->\n",
       "<g id=\"node3\" class=\"node\">\n",
       "<title>2</title>\n",
       "<polygon fill=\"#fefbf8\" stroke=\"#000000\" points=\"642.1667,-486.5 537.1667,-486.5 537.1667,-418.5 642.1667,-418.5 642.1667,-486.5\"/>\n",
       "<text text-anchor=\"start\" x=\"560.6667\" y=\"-471.3\" font-family=\"Times,serif\" font-size=\"14.00\" fill=\"#000000\">state ≤ 5.5</text>\n",
       "<text text-anchor=\"start\" x=\"555.1667\" y=\"-456.3\" font-family=\"Times,serif\" font-size=\"14.00\" fill=\"#000000\">mse = 2.605</text>\n",
       "<text text-anchor=\"start\" x=\"545.1667\" y=\"-441.3\" font-family=\"Times,serif\" font-size=\"14.00\" fill=\"#000000\">samples = 3038</text>\n",
       "<text text-anchor=\"start\" x=\"551.1667\" y=\"-426.3\" font-family=\"Times,serif\" font-size=\"14.00\" fill=\"#000000\">value = 0.369</text>\n",
       "</g>\n",
       "<!-- 1&#45;&gt;2 -->\n",
       "<g id=\"edge2\" class=\"edge\">\n",
       "<title>1&#45;&gt;2</title>\n",
       "<path fill=\"none\" stroke=\"#000000\" d=\"M397.2253,-362.9559C435.4451,-380.7397 487.3249,-404.8798 527.5875,-423.6142\"/>\n",
       "<polygon fill=\"#000000\" stroke=\"#000000\" points=\"526.2297,-426.8427 536.7728,-427.8882 529.1828,-420.4961 526.2297,-426.8427\"/>\n",
       "</g>\n",
       "<!-- 5 -->\n",
       "<g id=\"node6\" class=\"node\">\n",
       "<title>5</title>\n",
       "<polygon fill=\"#f6d5bd\" stroke=\"#000000\" points=\"642.1667,-372.5 537.1667,-372.5 537.1667,-304.5 642.1667,-304.5 642.1667,-372.5\"/>\n",
       "<text text-anchor=\"start\" x=\"552.1667\" y=\"-357.3\" font-family=\"Times,serif\" font-size=\"14.00\" fill=\"#000000\">backers ≤ 1.5</text>\n",
       "<text text-anchor=\"start\" x=\"555.1667\" y=\"-342.3\" font-family=\"Times,serif\" font-size=\"14.00\" fill=\"#000000\">mse = 2.418</text>\n",
       "<text text-anchor=\"start\" x=\"545.1667\" y=\"-327.3\" font-family=\"Times,serif\" font-size=\"14.00\" fill=\"#000000\">samples = 4542</text>\n",
       "<text text-anchor=\"start\" x=\"551.1667\" y=\"-312.3\" font-family=\"Times,serif\" font-size=\"14.00\" fill=\"#000000\">value = 3.457</text>\n",
       "</g>\n",
       "<!-- 1&#45;&gt;5 -->\n",
       "<g id=\"edge5\" class=\"edge\">\n",
       "<title>1&#45;&gt;5</title>\n",
       "<path fill=\"none\" stroke=\"#000000\" d=\"M397.2253,-338.5C435.1232,-338.5 486.4521,-338.5 526.5679,-338.5\"/>\n",
       "<polygon fill=\"#000000\" stroke=\"#000000\" points=\"526.7728,-342.0001 536.7728,-338.5 526.7728,-335.0001 526.7728,-342.0001\"/>\n",
       "</g>\n",
       "<!-- 3 -->\n",
       "<g id=\"node4\" class=\"node\">\n",
       "<title>3</title>\n",
       "<polygon fill=\"#ffffff\" stroke=\"#000000\" points=\"880.1667,-550 775.1667,-550 775.1667,-497 880.1667,-497 880.1667,-550\"/>\n",
       "<text text-anchor=\"start\" x=\"793.1667\" y=\"-534.8\" font-family=\"Times,serif\" font-size=\"14.00\" fill=\"#000000\">mse = 0.138</text>\n",
       "<text text-anchor=\"start\" x=\"783.1667\" y=\"-519.8\" font-family=\"Times,serif\" font-size=\"14.00\" fill=\"#000000\">samples = 2847</text>\n",
       "<text text-anchor=\"start\" x=\"792.6667\" y=\"-504.8\" font-family=\"Times,serif\" font-size=\"14.00\" fill=\"#000000\">value = 0.02</text>\n",
       "</g>\n",
       "<!-- 2&#45;&gt;3 -->\n",
       "<g id=\"edge3\" class=\"edge\">\n",
       "<title>2&#45;&gt;3</title>\n",
       "<path fill=\"none\" stroke=\"#000000\" d=\"M642.1914,-468.1691C678.3821,-478.9655 726.6505,-493.3649 764.8744,-504.7678\"/>\n",
       "<polygon fill=\"#000000\" stroke=\"#000000\" points=\"764.282,-508.2435 774.8652,-507.7483 766.2831,-501.5356 764.282,-508.2435\"/>\n",
       "</g>\n",
       "<!-- 4 -->\n",
       "<g id=\"node5\" class=\"node\">\n",
       "<title>4</title>\n",
       "<polygon fill=\"#f1bb95\" stroke=\"#000000\" points=\"876.6667,-479 778.6667,-479 778.6667,-426 876.6667,-426 876.6667,-479\"/>\n",
       "<text text-anchor=\"start\" x=\"789.6667\" y=\"-463.8\" font-family=\"Times,serif\" font-size=\"14.00\" fill=\"#000000\">mse = 10.437</text>\n",
       "<text text-anchor=\"start\" x=\"786.6667\" y=\"-448.8\" font-family=\"Times,serif\" font-size=\"14.00\" fill=\"#000000\">samples = 191</text>\n",
       "<text text-anchor=\"start\" x=\"789.1667\" y=\"-433.8\" font-family=\"Times,serif\" font-size=\"14.00\" fill=\"#000000\">value = 5.576</text>\n",
       "</g>\n",
       "<!-- 2&#45;&gt;4 -->\n",
       "<g id=\"edge4\" class=\"edge\">\n",
       "<title>2&#45;&gt;4</title>\n",
       "<path fill=\"none\" stroke=\"#000000\" d=\"M642.1914,-452.5C679.5131,-452.5 729.679,-452.5 768.4278,-452.5\"/>\n",
       "<polygon fill=\"#000000\" stroke=\"#000000\" points=\"768.5249,-456.0001 778.5249,-452.5 768.5249,-449.0001 768.5249,-456.0001\"/>\n",
       "</g>\n",
       "<!-- 6 -->\n",
       "<g id=\"node7\" class=\"node\">\n",
       "<title>6</title>\n",
       "<polygon fill=\"#f9e1d0\" stroke=\"#000000\" points=\"880.1667,-408 775.1667,-408 775.1667,-355 880.1667,-355 880.1667,-408\"/>\n",
       "<text text-anchor=\"start\" x=\"793.1667\" y=\"-392.8\" font-family=\"Times,serif\" font-size=\"14.00\" fill=\"#000000\">mse = 1.903</text>\n",
       "<text text-anchor=\"start\" x=\"783.1667\" y=\"-377.8\" font-family=\"Times,serif\" font-size=\"14.00\" fill=\"#000000\">samples = 1771</text>\n",
       "<text text-anchor=\"start\" x=\"789.1667\" y=\"-362.8\" font-family=\"Times,serif\" font-size=\"14.00\" fill=\"#000000\">value = 2.475</text>\n",
       "</g>\n",
       "<!-- 5&#45;&gt;6 -->\n",
       "<g id=\"edge6\" class=\"edge\">\n",
       "<title>5&#45;&gt;6</title>\n",
       "<path fill=\"none\" stroke=\"#000000\" d=\"M642.1914,-347.9898C678.3821,-354.5284 726.6505,-363.2492 764.8744,-370.1552\"/>\n",
       "<polygon fill=\"#000000\" stroke=\"#000000\" points=\"764.4022,-373.6265 774.8652,-371.9602 765.6468,-366.738 764.4022,-373.6265\"/>\n",
       "</g>\n",
       "<!-- 7 -->\n",
       "<g id=\"node8\" class=\"node\">\n",
       "<title>7</title>\n",
       "<polygon fill=\"#f5ceb1\" stroke=\"#000000\" points=\"880.1667,-337 775.1667,-337 775.1667,-284 880.1667,-284 880.1667,-337\"/>\n",
       "<text text-anchor=\"start\" x=\"793.1667\" y=\"-321.8\" font-family=\"Times,serif\" font-size=\"14.00\" fill=\"#000000\">mse = 1.738</text>\n",
       "<text text-anchor=\"start\" x=\"783.1667\" y=\"-306.8\" font-family=\"Times,serif\" font-size=\"14.00\" fill=\"#000000\">samples = 2771</text>\n",
       "<text text-anchor=\"start\" x=\"789.1667\" y=\"-291.8\" font-family=\"Times,serif\" font-size=\"14.00\" fill=\"#000000\">value = 4.084</text>\n",
       "</g>\n",
       "<!-- 5&#45;&gt;7 -->\n",
       "<g id=\"edge7\" class=\"edge\">\n",
       "<title>5&#45;&gt;7</title>\n",
       "<path fill=\"none\" stroke=\"#000000\" d=\"M642.1914,-332.3206C678.3821,-328.0629 726.6505,-322.3843 764.8744,-317.8873\"/>\n",
       "<polygon fill=\"#000000\" stroke=\"#000000\" points=\"765.3427,-321.3565 774.8652,-316.7119 764.5247,-314.4044 765.3427,-321.3565\"/>\n",
       "</g>\n",
       "<!-- 9 -->\n",
       "<g id=\"node10\" class=\"node\">\n",
       "<title>9</title>\n",
       "<polygon fill=\"#eeaf81\" stroke=\"#000000\" points=\"642.1667,-245.5 537.1667,-245.5 537.1667,-177.5 642.1667,-177.5 642.1667,-245.5\"/>\n",
       "<text text-anchor=\"start\" x=\"548.6667\" y=\"-230.3\" font-family=\"Times,serif\" font-size=\"14.00\" fill=\"#000000\">backers ≤ 13.5</text>\n",
       "<text text-anchor=\"start\" x=\"555.1667\" y=\"-215.3\" font-family=\"Times,serif\" font-size=\"14.00\" fill=\"#000000\">mse = 1.377</text>\n",
       "<text text-anchor=\"start\" x=\"545.1667\" y=\"-200.3\" font-family=\"Times,serif\" font-size=\"14.00\" fill=\"#000000\">samples = 6198</text>\n",
       "<text text-anchor=\"start\" x=\"551.1667\" y=\"-185.3\" font-family=\"Times,serif\" font-size=\"14.00\" fill=\"#000000\">value = 6.607</text>\n",
       "</g>\n",
       "<!-- 8&#45;&gt;9 -->\n",
       "<g id=\"edge9\" class=\"edge\">\n",
       "<title>8&#45;&gt;9</title>\n",
       "<path fill=\"none\" stroke=\"#000000\" d=\"M400.8746,-211.5C438.4833,-211.5 488.0215,-211.5 526.9166,-211.5\"/>\n",
       "<polygon fill=\"#000000\" stroke=\"#000000\" points=\"527.0728,-215.0001 537.0728,-211.5 527.0727,-208.0001 527.0728,-215.0001\"/>\n",
       "</g>\n",
       "<!-- 12 -->\n",
       "<g id=\"node13\" class=\"node\">\n",
       "<title>12</title>\n",
       "<polygon fill=\"#e89151\" stroke=\"#000000\" points=\"642.1667,-131.5 537.1667,-131.5 537.1667,-63.5 642.1667,-63.5 642.1667,-131.5\"/>\n",
       "<text text-anchor=\"start\" x=\"545.1667\" y=\"-116.3\" font-family=\"Times,serif\" font-size=\"14.00\" fill=\"#000000\">backers ≤ 196.5</text>\n",
       "<text text-anchor=\"start\" x=\"555.1667\" y=\"-101.3\" font-family=\"Times,serif\" font-size=\"14.00\" fill=\"#000000\">mse = 1.449</text>\n",
       "<text text-anchor=\"start\" x=\"545.1667\" y=\"-86.3\" font-family=\"Times,serif\" font-size=\"14.00\" fill=\"#000000\">samples = 6222</text>\n",
       "<text text-anchor=\"start\" x=\"551.1667\" y=\"-71.3\" font-family=\"Times,serif\" font-size=\"14.00\" fill=\"#000000\">value = 9.106</text>\n",
       "</g>\n",
       "<!-- 8&#45;&gt;12 -->\n",
       "<g id=\"edge12\" class=\"edge\">\n",
       "<title>8&#45;&gt;12</title>\n",
       "<path fill=\"none\" stroke=\"#000000\" d=\"M400.8746,-185.3461C438.8034,-167.6976 488.8656,-144.4034 527.9074,-126.237\"/>\n",
       "<polygon fill=\"#000000\" stroke=\"#000000\" points=\"529.4828,-129.3643 537.0728,-121.9723 526.5296,-123.0177 529.4828,-129.3643\"/>\n",
       "</g>\n",
       "<!-- 10 -->\n",
       "<g id=\"node11\" class=\"node\">\n",
       "<title>10</title>\n",
       "<polygon fill=\"#f0b890\" stroke=\"#000000\" points=\"880.1667,-266 775.1667,-266 775.1667,-213 880.1667,-213 880.1667,-266\"/>\n",
       "<text text-anchor=\"start\" x=\"796.6667\" y=\"-250.8\" font-family=\"Times,serif\" font-size=\"14.00\" fill=\"#000000\">mse = 1.03</text>\n",
       "<text text-anchor=\"start\" x=\"783.1667\" y=\"-235.8\" font-family=\"Times,serif\" font-size=\"14.00\" fill=\"#000000\">samples = 2825</text>\n",
       "<text text-anchor=\"start\" x=\"792.6667\" y=\"-220.8\" font-family=\"Times,serif\" font-size=\"14.00\" fill=\"#000000\">value = 5.84</text>\n",
       "</g>\n",
       "<!-- 9&#45;&gt;10 -->\n",
       "<g id=\"edge10\" class=\"edge\">\n",
       "<title>9&#45;&gt;10</title>\n",
       "<path fill=\"none\" stroke=\"#000000\" d=\"M642.1914,-217.6794C678.3821,-221.9371 726.6505,-227.6157 764.8744,-232.1127\"/>\n",
       "<polygon fill=\"#000000\" stroke=\"#000000\" points=\"764.5247,-235.5956 774.8652,-233.2881 765.3427,-228.6435 764.5247,-235.5956\"/>\n",
       "</g>\n",
       "<!-- 11 -->\n",
       "<g id=\"node12\" class=\"node\">\n",
       "<title>11</title>\n",
       "<polygon fill=\"#eda775\" stroke=\"#000000\" points=\"880.1667,-195 775.1667,-195 775.1667,-142 880.1667,-142 880.1667,-195\"/>\n",
       "<text text-anchor=\"start\" x=\"793.1667\" y=\"-179.8\" font-family=\"Times,serif\" font-size=\"14.00\" fill=\"#000000\">mse = 0.763</text>\n",
       "<text text-anchor=\"start\" x=\"783.1667\" y=\"-164.8\" font-family=\"Times,serif\" font-size=\"14.00\" fill=\"#000000\">samples = 3373</text>\n",
       "<text text-anchor=\"start\" x=\"789.1667\" y=\"-149.8\" font-family=\"Times,serif\" font-size=\"14.00\" fill=\"#000000\">value = 7.249</text>\n",
       "</g>\n",
       "<!-- 9&#45;&gt;11 -->\n",
       "<g id=\"edge11\" class=\"edge\">\n",
       "<title>9&#45;&gt;11</title>\n",
       "<path fill=\"none\" stroke=\"#000000\" d=\"M642.1914,-202.0102C678.3821,-195.4716 726.6505,-186.7508 764.8744,-179.8448\"/>\n",
       "<polygon fill=\"#000000\" stroke=\"#000000\" points=\"765.6468,-183.262 774.8652,-178.0398 764.4022,-176.3735 765.6468,-183.262\"/>\n",
       "</g>\n",
       "<!-- 13 -->\n",
       "<g id=\"node14\" class=\"node\">\n",
       "<title>13</title>\n",
       "<polygon fill=\"#e9965b\" stroke=\"#000000\" points=\"880.1667,-124 775.1667,-124 775.1667,-71 880.1667,-71 880.1667,-124\"/>\n",
       "<text text-anchor=\"start\" x=\"793.1667\" y=\"-108.8\" font-family=\"Times,serif\" font-size=\"14.00\" fill=\"#000000\">mse = 0.697</text>\n",
       "<text text-anchor=\"start\" x=\"783.1667\" y=\"-93.8\" font-family=\"Times,serif\" font-size=\"14.00\" fill=\"#000000\">samples = 4503</text>\n",
       "<text text-anchor=\"start\" x=\"789.1667\" y=\"-78.8\" font-family=\"Times,serif\" font-size=\"14.00\" fill=\"#000000\">value = 8.618</text>\n",
       "</g>\n",
       "<!-- 12&#45;&gt;13 -->\n",
       "<g id=\"edge13\" class=\"edge\">\n",
       "<title>12&#45;&gt;13</title>\n",
       "<path fill=\"none\" stroke=\"#000000\" d=\"M642.1914,-97.5C678.2281,-97.5 726.2399,-97.5 764.3859,-97.5\"/>\n",
       "<polygon fill=\"#000000\" stroke=\"#000000\" points=\"764.8652,-101.0001 774.8652,-97.5 764.8652,-94.0001 764.8652,-101.0001\"/>\n",
       "</g>\n",
       "<!-- 14 -->\n",
       "<g id=\"node15\" class=\"node\">\n",
       "<title>14</title>\n",
       "<polygon fill=\"#e58139\" stroke=\"#000000\" points=\"880.1667,-53 775.1667,-53 775.1667,0 880.1667,0 880.1667,-53\"/>\n",
       "<text text-anchor=\"start\" x=\"793.1667\" y=\"-37.8\" font-family=\"Times,serif\" font-size=\"14.00\" fill=\"#000000\">mse = 1.157</text>\n",
       "<text text-anchor=\"start\" x=\"783.1667\" y=\"-22.8\" font-family=\"Times,serif\" font-size=\"14.00\" fill=\"#000000\">samples = 1719</text>\n",
       "<text text-anchor=\"start\" x=\"785.6667\" y=\"-7.8\" font-family=\"Times,serif\" font-size=\"14.00\" fill=\"#000000\">value = 10.386</text>\n",
       "</g>\n",
       "<!-- 12&#45;&gt;14 -->\n",
       "<g id=\"edge14\" class=\"edge\">\n",
       "<title>12&#45;&gt;14</title>\n",
       "<path fill=\"none\" stroke=\"#000000\" d=\"M642.1914,-81.8309C678.3821,-71.0345 726.6505,-56.6351 764.8744,-45.2322\"/>\n",
       "<polygon fill=\"#000000\" stroke=\"#000000\" points=\"766.2831,-48.4644 774.8652,-42.2517 764.282,-41.7565 766.2831,-48.4644\"/>\n",
       "</g>\n",
       "</g>\n",
       "</svg>\n"
      ],
      "text/plain": [
       "<graphviz.files.Source at 0x1c2ac0f9b0>"
      ]
     },
     "metadata": {},
     "output_type": "display_data"
    }
   ],
   "source": [
    "draw_tree(m.estimators_[0], df_trn, precision=3)"
   ]
  },
  {
   "cell_type": "markdown",
   "metadata": {},
   "source": [
    "This single tree surprisingly does very well for a tree that uses 1 estimator and a depth of 3"
   ]
  },
  {
   "cell_type": "markdown",
   "metadata": {},
   "source": [
    "Create a bigger tree"
   ]
  },
  {
   "cell_type": "code",
   "execution_count": 60,
   "metadata": {},
   "outputs": [
    {
     "name": "stdout",
     "output_type": "stream",
     "text": [
      "CPU times: user 449 ms, sys: 9.42 ms, total: 459 ms\n",
      "Wall time: 482 ms\n",
      "[2.1485699078958847e-05, 1.205533918790999, 0.9999999999585825, 0.8682142865734637]\n"
     ]
    }
   ],
   "source": [
    "m = RandomForestRegressor(n_estimators=1, bootstrap=False, n_jobs=-1)\n",
    "%time m.fit(X_train, y_train)\n",
    "print_score(m)"
   ]
  },
  {
   "cell_type": "markdown",
   "metadata": {},
   "source": [
    "The main takeaway from this part is the observation of how each tree perform. The bigger tree is to help us understand that it performs not so well on the validation set. Hence, we'll need to move forward with bagging"
   ]
  },
  {
   "cell_type": "markdown",
   "metadata": {},
   "source": [
    "## Bagging time"
   ]
  },
  {
   "cell_type": "code",
   "execution_count": 61,
   "metadata": {},
   "outputs": [
    {
     "name": "stdout",
     "output_type": "stream",
     "text": [
      "CPU times: user 3.56 s, sys: 32.7 ms, total: 3.59 s\n",
      "Wall time: 1.19 s\n",
      "[0.35779961862666665, 0.8913458294723939, 0.9885141000258114, 0.9279553165865279]\n"
     ]
    }
   ],
   "source": [
    "m = RandomForestRegressor(n_estimators=10, n_jobs=-1)\n",
    "%time m.fit(X_train, y_train)\n",
    "print_score(m)"
   ]
  },
  {
   "cell_type": "code",
   "execution_count": 62,
   "metadata": {},
   "outputs": [
    {
     "data": {
      "text/plain": [
       "(array([4.86892, 4.98361, 5.42495, 5.03695, 4.99721, 4.32241, 4.98361, 4.29401, 7.10743, 4.98361]),\n",
       " 5.100270241624516,\n",
       " 5.817111159963204)"
      ]
     },
     "execution_count": 62,
     "metadata": {},
     "output_type": "execute_result"
    }
   ],
   "source": [
    "preds = np.stack([t.predict(X_valid) for t in m.estimators_])\n",
    "preds[:,0], np.mean(preds[:,0]), y_valid[0]"
   ]
  },
  {
   "cell_type": "code",
   "execution_count": 63,
   "metadata": {},
   "outputs": [
    {
     "data": {
      "text/plain": [
       "(10, 12000)"
      ]
     },
     "execution_count": 63,
     "metadata": {},
     "output_type": "execute_result"
    }
   ],
   "source": [
    "preds.shape"
   ]
  },
  {
   "cell_type": "code",
   "execution_count": 64,
   "metadata": {},
   "outputs": [
    {
     "data": {
      "image/png": "[encoded data removed]",
      "text/plain": [
       "<Figure size 432x288 with 1 Axes>"
      ]
     },
     "metadata": {
      "needs_background": "light"
     },
     "output_type": "display_data"
    }
   ],
   "source": [
    "plt.plot([metrics.r2_score(y_valid, np.mean(preds[:i+1], axis=0)) for i in range(10)]);"
   ]
  },
  {
   "cell_type": "code",
   "execution_count": 65,
   "metadata": {},
   "outputs": [
    {
     "name": "stdout",
     "output_type": "stream",
     "text": [
      "CPU times: user 7.52 s, sys: 68.4 ms, total: 7.59 s\n",
      "Wall time: 2.22 s\n",
      "[0.33046339687772913, 0.880529986899589, 0.9902021224239703, 0.9296931298266821]\n"
     ]
    }
   ],
   "source": [
    "m = RandomForestRegressor(n_estimators=20, n_jobs=-1)\n",
    "%time m.fit(X_train, y_train)\n",
    "print_score(m)"
   ]
  },
  {
   "cell_type": "code",
   "execution_count": 66,
   "metadata": {},
   "outputs": [
    {
     "name": "stdout",
     "output_type": "stream",
     "text": [
      "CPU times: user 14.8 s, sys: 117 ms, total: 14.9 s\n",
      "Wall time: 4.29 s\n",
      "[0.31813048270645317, 0.8692306182006945, 0.9909197908479016, 0.9314859729014848]\n"
     ]
    }
   ],
   "source": [
    "m = RandomForestRegressor(n_estimators=40, n_jobs=-1)\n",
    "%time m.fit(X_train, y_train)\n",
    "print_score(m)"
   ]
  },
  {
   "cell_type": "code",
   "execution_count": 67,
   "metadata": {},
   "outputs": [
    {
     "name": "stdout",
     "output_type": "stream",
     "text": [
      "CPU times: user 29.8 s, sys: 222 ms, total: 30 s\n",
      "Wall time: 8.4 s\n",
      "[0.3090957612293846, 0.8619670419906922, 0.9914282127760851, 0.9326262400640207]\n"
     ]
    }
   ],
   "source": [
    "m = RandomForestRegressor(n_estimators=80, n_jobs=-1)\n",
    "%time m.fit(X_train, y_train)\n",
    "print_score(m)"
   ]
  },
  {
   "cell_type": "markdown",
   "metadata": {},
   "source": [
    "# OOB score"
   ]
  },
  {
   "cell_type": "code",
   "execution_count": 68,
   "metadata": {},
   "outputs": [
    {
     "name": "stdout",
     "output_type": "stream",
     "text": [
      "CPU times: user 15.1 s, sys: 122 ms, total: 15.2 s\n",
      "Wall time: 4.44 s\n",
      "[0.3140544100525926, 0.8679139284815155, 0.9911509820552787, 0.9316933825070373, 0.9358169346084734]\n"
     ]
    }
   ],
   "source": [
    "m = RandomForestRegressor(n_estimators=40, n_jobs=-1, oob_score=True)\n",
    "%time m.fit(X_train, y_train)\n",
    "print_score(m)"
   ]
  },
  {
   "cell_type": "markdown",
   "metadata": {},
   "source": [
    "## Subsampling!!!"
   ]
  },
  {
   "cell_type": "markdown",
   "metadata": {},
   "source": [
    "Reduce overfitting and make things run faster while using the whole dataset"
   ]
  },
  {
   "cell_type": "code",
   "execution_count": 35,
   "metadata": {},
   "outputs": [],
   "source": [
    "df_trn, y_trn, nas = proc_df(df_raw, 'usd_pledged_real')\n",
    "X_train, X_valid = split_vals(df_trn, n_trn)\n",
    "y_train, y_valid = split_vals(y_trn, n_trn)"
   ]
  },
  {
   "cell_type": "code",
   "execution_count": 36,
   "metadata": {},
   "outputs": [],
   "source": [
    "set_rf_samples(20000)"
   ]
  },
  {
   "cell_type": "code",
   "execution_count": 71,
   "metadata": {},
   "outputs": [
    {
     "name": "stderr",
     "output_type": "stream",
     "text": [
      "/Users/maxvu/anaconda3/envs/fastai-cpu/lib/python3.6/site-packages/sklearn/ensemble/_forest.py:815: UserWarning: Some inputs do not have OOB scores. This probably means too few trees were used to compute any reliable oob estimates.\n",
      "  warn(\"Some inputs do not have OOB scores. \"\n"
     ]
    },
    {
     "name": "stdout",
     "output_type": "stream",
     "text": [
      "CPU times: user 1min 53s, sys: 1.23 s, total: 1min 55s\n",
      "Wall time: 42.4 s\n",
      "[0.34931570150350927, 0.8473438658062122, 0.9889132882337859, 0.9348928262640123, 0.8836717776027779]\n"
     ]
    }
   ],
   "source": [
    "m = RandomForestRegressor(n_estimators=10, n_jobs=-1, oob_score=True)\n",
    "%time m.fit(X_train, y_train)\n",
    "print_score(m)"
   ]
  },
  {
   "cell_type": "code",
   "execution_count": 72,
   "metadata": {},
   "outputs": [
    {
     "name": "stdout",
     "output_type": "stream",
     "text": [
      "CPU times: user 8min 6s, sys: 7.85 s, total: 8min 14s\n",
      "Wall time: 3min 38s\n",
      "[0.30575179342632386, 0.8212278090676678, 0.9915061503658813, 0.9388443257884416, 0.9394631067098712]\n"
     ]
    }
   ],
   "source": [
    "m = RandomForestRegressor(n_estimators=40, n_jobs=-1, oob_score=True)\n",
    "%time m.fit(X_train, y_train)\n",
    "print_score(m)"
   ]
  },
  {
   "cell_type": "markdown",
   "metadata": {},
   "source": [
    "# Playing with some tree parameters"
   ]
  },
  {
   "cell_type": "markdown",
   "metadata": {},
   "source": [
    "reset_rf_samples() Use this if you want to reset the rf subsampling behavior. This came from the fact that oob_score is not compatible to this function at the moment"
   ]
  },
  {
   "cell_type": "code",
   "execution_count": 37,
   "metadata": {},
   "outputs": [],
   "source": [
    "reset_rf_samples()"
   ]
  },
  {
   "cell_type": "markdown",
   "metadata": {},
   "source": [
    "Change mean_samples_leaf"
   ]
  },
  {
   "cell_type": "code",
   "execution_count": 74,
   "metadata": {},
   "outputs": [
    {
     "name": "stdout",
     "output_type": "stream",
     "text": [
      "CPU times: user 6min 56s, sys: 3.59 s, total: 7min\n",
      "Wall time: 2min 13s\n",
      "[0.4247641800573476, 0.8149945933341123, 0.9836068537211289, 0.9397691601481799, 0.9412581751347124]\n"
     ]
    }
   ],
   "source": [
    "m = RandomForestRegressor(n_estimators=40, min_samples_leaf=3, n_jobs=-1, oob_score=True)\n",
    "%time m.fit(X_train, y_train)\n",
    "print_score(m)"
   ]
  },
  {
   "cell_type": "code",
   "execution_count": 38,
   "metadata": {},
   "outputs": [
    {
     "name": "stdout",
     "output_type": "stream",
     "text": [
      "CPU times: user 3min 37s, sys: 1.61 s, total: 3min 38s\n",
      "Wall time: 1min 1s\n",
      "[0.4447950861993276, 0.805337363946473, 0.9820242713429813, 0.9411881066070009, 0.9419299451695023]\n"
     ]
    }
   ],
   "source": [
    "m = RandomForestRegressor(n_estimators=40, min_samples_leaf=3, max_features=0.5, n_jobs=-1, oob_score=True)\n",
    "%time m.fit(X_train, y_train)\n",
    "print_score(m)"
   ]
  },
  {
   "cell_type": "markdown",
   "metadata": {},
   "source": [
    "# Time for some interpretation"
   ]
  },
  {
   "cell_type": "code",
   "execution_count": 13,
   "metadata": {},
   "outputs": [],
   "source": [
    "set_plot_sizes(12,14,16)"
   ]
  },
  {
   "cell_type": "code",
   "execution_count": 39,
   "metadata": {},
   "outputs": [],
   "source": [
    "set_rf_samples(50000)"
   ]
  },
  {
   "cell_type": "code",
   "execution_count": 40,
   "metadata": {},
   "outputs": [
    {
     "name": "stdout",
     "output_type": "stream",
     "text": [
      "CPU times: user 3min 38s, sys: 1.82 s, total: 3min 40s\n",
      "Wall time: 1min 4s\n",
      "[0.4447772204018681, 0.8076817534289191, 0.9820257153529878, 0.9408451977184086, 0.9418857350028726]\n"
     ]
    }
   ],
   "source": [
    "m = RandomForestRegressor(n_estimators=40, min_samples_leaf=3, max_features=0.5, n_jobs=-1, oob_score=True)\n",
    "%time m.fit(X_train, y_train)\n",
    "print_score(m)"
   ]
  },
  {
   "cell_type": "markdown",
   "metadata": {},
   "source": [
    "Look at the standard deviation of the estimate to see how we are doing"
   ]
  },
  {
   "cell_type": "code",
   "execution_count": 82,
   "metadata": {},
   "outputs": [
    {
     "name": "stdout",
     "output_type": "stream",
     "text": [
      "CPU times: user 1.51 s, sys: 33.5 ms, total: 1.54 s\n",
      "Wall time: 1.64 s\n"
     ]
    },
    {
     "data": {
      "text/plain": [
       "(5.286435354322831, 0.8601949454653725)"
      ]
     },
     "execution_count": 82,
     "metadata": {},
     "output_type": "execute_result"
    }
   ],
   "source": [
    "%time preds = np.stack([t.predict(X_valid) for t in m.estimators_])\n",
    "np.mean(preds[:,0]), np.std(preds[:,0])"
   ]
  },
  {
   "cell_type": "markdown",
   "metadata": {},
   "source": [
    "Use parallel processing to speed this up"
   ]
  },
  {
   "cell_type": "code",
   "execution_count": 84,
   "metadata": {},
   "outputs": [
    {
     "name": "stdout",
     "output_type": "stream",
     "text": [
      "CPU times: user 293 ms, sys: 199 ms, total: 492 ms\n",
      "Wall time: 1.53 s\n"
     ]
    },
    {
     "data": {
      "text/plain": [
       "(5.286435354322831, 0.8601949454653725)"
      ]
     },
     "execution_count": 84,
     "metadata": {},
     "output_type": "execute_result"
    }
   ],
   "source": [
    "def get_preds(t): return t.predict(X_valid)\n",
    "%time preds = np.stack(parallel_trees(m, get_preds))\n",
    "np.mean(preds[:,0]), np.std(preds[:,0])"
   ]
  },
  {
   "cell_type": "code",
   "execution_count": 85,
   "metadata": {},
   "outputs": [],
   "source": [
    "x = raw_valid.copy()\n",
    "x['pred_std'] = np.std(preds, axis=0)\n",
    "x['pred'] = np.mean(preds, axis=0)"
   ]
  },
  {
   "cell_type": "code",
   "execution_count": 87,
   "metadata": {},
   "outputs": [
    {
     "data": {
      "image/png": "[encoded data removed]",
      "text/plain": [
       "<Figure size 432x288 with 1 Axes>"
      ]
     },
     "metadata": {
      "needs_background": "light"
     },
     "output_type": "display_data"
    }
   ],
   "source": [
    "x.main_category.value_counts().plot.barh();"
   ]
  },
  {
   "cell_type": "code",
   "execution_count": 89,
   "metadata": {},
   "outputs": [
    {
     "data": {
      "text/html": [
       "<div>\n",
       "<style scoped>\n",
       "    .dataframe tbody tr th:only-of-type {\n",
       "        vertical-align: middle;\n",
       "    }\n",
       "\n",
       "    .dataframe tbody tr th {\n",
       "        vertical-align: top;\n",
       "    }\n",
       "\n",
       "    .dataframe thead th {\n",
       "        text-align: right;\n",
       "    }\n",
       "</style>\n",
       "<table border=\"1\" class=\"dataframe\">\n",
       "  <thead>\n",
       "    <tr style=\"text-align: right;\">\n",
       "      <th></th>\n",
       "      <th>main_category</th>\n",
       "      <th>usd_pledged_real</th>\n",
       "      <th>pred</th>\n",
       "      <th>pred_std</th>\n",
       "    </tr>\n",
       "  </thead>\n",
       "  <tbody>\n",
       "    <tr>\n",
       "      <th>0</th>\n",
       "      <td>Art</td>\n",
       "      <td>5.491955</td>\n",
       "      <td>5.489061</td>\n",
       "      <td>0.474017</td>\n",
       "    </tr>\n",
       "    <tr>\n",
       "      <th>1</th>\n",
       "      <td>Comics</td>\n",
       "      <td>6.904368</td>\n",
       "      <td>7.020463</td>\n",
       "      <td>0.453156</td>\n",
       "    </tr>\n",
       "    <tr>\n",
       "      <th>2</th>\n",
       "      <td>Crafts</td>\n",
       "      <td>4.261308</td>\n",
       "      <td>4.234577</td>\n",
       "      <td>0.603922</td>\n",
       "    </tr>\n",
       "    <tr>\n",
       "      <th>3</th>\n",
       "      <td>Dance</td>\n",
       "      <td>6.450647</td>\n",
       "      <td>6.461249</td>\n",
       "      <td>0.315619</td>\n",
       "    </tr>\n",
       "    <tr>\n",
       "      <th>4</th>\n",
       "      <td>Design</td>\n",
       "      <td>6.934996</td>\n",
       "      <td>6.904862</td>\n",
       "      <td>0.568176</td>\n",
       "    </tr>\n",
       "    <tr>\n",
       "      <th>5</th>\n",
       "      <td>Fashion</td>\n",
       "      <td>5.107895</td>\n",
       "      <td>5.056085</td>\n",
       "      <td>0.501848</td>\n",
       "    </tr>\n",
       "    <tr>\n",
       "      <th>6</th>\n",
       "      <td>Film &amp; Video</td>\n",
       "      <td>5.703763</td>\n",
       "      <td>5.694458</td>\n",
       "      <td>0.469515</td>\n",
       "    </tr>\n",
       "    <tr>\n",
       "      <th>7</th>\n",
       "      <td>Food</td>\n",
       "      <td>5.302020</td>\n",
       "      <td>5.305656</td>\n",
       "      <td>0.526342</td>\n",
       "    </tr>\n",
       "    <tr>\n",
       "      <th>8</th>\n",
       "      <td>Games</td>\n",
       "      <td>6.612444</td>\n",
       "      <td>6.691780</td>\n",
       "      <td>0.545992</td>\n",
       "    </tr>\n",
       "    <tr>\n",
       "      <th>9</th>\n",
       "      <td>Journalism</td>\n",
       "      <td>3.915113</td>\n",
       "      <td>4.037021</td>\n",
       "      <td>0.565170</td>\n",
       "    </tr>\n",
       "    <tr>\n",
       "      <th>10</th>\n",
       "      <td>Music</td>\n",
       "      <td>5.801694</td>\n",
       "      <td>5.824188</td>\n",
       "      <td>0.462645</td>\n",
       "    </tr>\n",
       "    <tr>\n",
       "      <th>11</th>\n",
       "      <td>Photography</td>\n",
       "      <td>5.041162</td>\n",
       "      <td>5.003128</td>\n",
       "      <td>0.474145</td>\n",
       "    </tr>\n",
       "    <tr>\n",
       "      <th>12</th>\n",
       "      <td>Publishing</td>\n",
       "      <td>5.133099</td>\n",
       "      <td>5.159235</td>\n",
       "      <td>0.502862</td>\n",
       "    </tr>\n",
       "    <tr>\n",
       "      <th>13</th>\n",
       "      <td>Technology</td>\n",
       "      <td>5.372343</td>\n",
       "      <td>5.400147</td>\n",
       "      <td>0.674639</td>\n",
       "    </tr>\n",
       "    <tr>\n",
       "      <th>14</th>\n",
       "      <td>Theater</td>\n",
       "      <td>6.616824</td>\n",
       "      <td>6.603741</td>\n",
       "      <td>0.378645</td>\n",
       "    </tr>\n",
       "  </tbody>\n",
       "</table>\n",
       "</div>"
      ],
      "text/plain": [
       "   main_category  usd_pledged_real      pred  pred_std\n",
       "0            Art          5.491955  5.489061  0.474017\n",
       "1         Comics          6.904368  7.020463  0.453156\n",
       "2         Crafts          4.261308  4.234577  0.603922\n",
       "3          Dance          6.450647  6.461249  0.315619\n",
       "4         Design          6.934996  6.904862  0.568176\n",
       "5        Fashion          5.107895  5.056085  0.501848\n",
       "6   Film & Video          5.703763  5.694458  0.469515\n",
       "7           Food          5.302020  5.305656  0.526342\n",
       "8          Games          6.612444  6.691780  0.545992\n",
       "9     Journalism          3.915113  4.037021  0.565170\n",
       "10         Music          5.801694  5.824188  0.462645\n",
       "11   Photography          5.041162  5.003128  0.474145\n",
       "12    Publishing          5.133099  5.159235  0.502862\n",
       "13    Technology          5.372343  5.400147  0.674639\n",
       "14       Theater          6.616824  6.603741  0.378645"
      ]
     },
     "execution_count": 89,
     "metadata": {},
     "output_type": "execute_result"
    }
   ],
   "source": [
    "flds = ['main_category', 'usd_pledged_real', 'pred', 'pred_std']\n",
    "mcat_summ = x[flds].groupby('main_category', as_index=False).mean()\n",
    "mcat_summ"
   ]
  },
  {
   "cell_type": "code",
   "execution_count": 91,
   "metadata": {},
   "outputs": [
    {
     "data": {
      "image/png": "[encoded data removed]",
      "text/plain": [
       "<Figure size 432x288 with 1 Axes>"
      ]
     },
     "metadata": {
      "needs_background": "light"
     },
     "output_type": "display_data"
    }
   ],
   "source": [
    "mcat_summ.plot('main_category', 'usd_pledged_real', 'barh', xlim=(0,11));"
   ]
  },
  {
   "cell_type": "code",
   "execution_count": 92,
   "metadata": {},
   "outputs": [
    {
     "data": {
      "image/png": "[encoded data removed]",
      "text/plain": [
       "<Figure size 432x288 with 1 Axes>"
      ]
     },
     "metadata": {
      "needs_background": "light"
     },
     "output_type": "display_data"
    }
   ],
   "source": [
    "mcat_summ.plot('main_category', 'pred', 'barh', xerr='pred_std', alpha=0.6, xlim=(0,11));"
   ]
  },
  {
   "cell_type": "markdown",
   "metadata": {},
   "source": [
    "Question: Why are the predictions nearly exactly right, but the error bars are quite wide?"
   ]
  },
  {
   "cell_type": "code",
   "execution_count": 94,
   "metadata": {},
   "outputs": [
    {
     "data": {
      "image/png": "[encoded data removed]",
      "text/plain": [
       "<Figure size 432x288 with 1 Axes>"
      ]
     },
     "metadata": {
      "needs_background": "light"
     },
     "output_type": "display_data"
    }
   ],
   "source": [
    "raw_valid.state.value_counts().plot.barh();"
   ]
  },
  {
   "cell_type": "code",
   "execution_count": 95,
   "metadata": {},
   "outputs": [
    {
     "data": {
      "text/html": [
       "<div>\n",
       "<style scoped>\n",
       "    .dataframe tbody tr th:only-of-type {\n",
       "        vertical-align: middle;\n",
       "    }\n",
       "\n",
       "    .dataframe tbody tr th {\n",
       "        vertical-align: top;\n",
       "    }\n",
       "\n",
       "    .dataframe thead th {\n",
       "        text-align: right;\n",
       "    }\n",
       "</style>\n",
       "<table border=\"1\" class=\"dataframe\">\n",
       "  <thead>\n",
       "    <tr style=\"text-align: right;\">\n",
       "      <th></th>\n",
       "      <th>usd_pledged_real</th>\n",
       "      <th>pred</th>\n",
       "      <th>pred_std</th>\n",
       "    </tr>\n",
       "    <tr>\n",
       "      <th>state</th>\n",
       "      <th></th>\n",
       "      <th></th>\n",
       "      <th></th>\n",
       "    </tr>\n",
       "  </thead>\n",
       "  <tbody>\n",
       "    <tr>\n",
       "      <th>canceled</th>\n",
       "      <td>4.039191</td>\n",
       "      <td>4.053751</td>\n",
       "      <td>0.549333</td>\n",
       "    </tr>\n",
       "    <tr>\n",
       "      <th>failed</th>\n",
       "      <td>4.211051</td>\n",
       "      <td>4.219293</td>\n",
       "      <td>0.630396</td>\n",
       "    </tr>\n",
       "    <tr>\n",
       "      <th>live</th>\n",
       "      <td>5.009619</td>\n",
       "      <td>5.071957</td>\n",
       "      <td>0.634480</td>\n",
       "    </tr>\n",
       "    <tr>\n",
       "      <th>successful</th>\n",
       "      <td>8.549310</td>\n",
       "      <td>8.549300</td>\n",
       "      <td>0.260613</td>\n",
       "    </tr>\n",
       "    <tr>\n",
       "      <th>suspended</th>\n",
       "      <td>3.251897</td>\n",
       "      <td>3.479330</td>\n",
       "      <td>0.976458</td>\n",
       "    </tr>\n",
       "    <tr>\n",
       "      <th>undefined</th>\n",
       "      <td>4.833461</td>\n",
       "      <td>5.295841</td>\n",
       "      <td>2.355690</td>\n",
       "    </tr>\n",
       "  </tbody>\n",
       "</table>\n",
       "</div>"
      ],
      "text/plain": [
       "            usd_pledged_real      pred  pred_std\n",
       "state                                           \n",
       "canceled            4.039191  4.053751  0.549333\n",
       "failed              4.211051  4.219293  0.630396\n",
       "live                5.009619  5.071957  0.634480\n",
       "successful          8.549310  8.549300  0.260613\n",
       "suspended           3.251897  3.479330  0.976458\n",
       "undefined           4.833461  5.295841  2.355690"
      ]
     },
     "execution_count": 95,
     "metadata": {},
     "output_type": "execute_result"
    }
   ],
   "source": [
    "flds = ['state', 'usd_pledged_real', 'pred', 'pred_std']\n",
    "st_summ = x[flds].groupby(flds[0]).mean()\n",
    "st_summ"
   ]
  },
  {
   "cell_type": "code",
   "execution_count": 96,
   "metadata": {},
   "outputs": [
    {
     "data": {
      "text/plain": [
       "state\n",
       "undefined     0.444819\n",
       "suspended     0.280646\n",
       "failed        0.149408\n",
       "canceled      0.135512\n",
       "live          0.125096\n",
       "successful    0.030484\n",
       "dtype: float64"
      ]
     },
     "execution_count": 96,
     "metadata": {},
     "output_type": "execute_result"
    }
   ],
   "source": [
    "(st_summ.pred_std/st_summ.pred).sort_values(ascending=False)"
   ]
  },
  {
   "cell_type": "markdown",
   "metadata": {},
   "source": [
    "# Feature Importance"
   ]
  },
  {
   "cell_type": "code",
   "execution_count": 52,
   "metadata": {},
   "outputs": [
    {
     "ename": "ValueError",
     "evalue": "arrays must all be same length",
     "output_type": "error",
     "traceback": [
      "\u001b[0;31m---------------------------------------------------------------------------\u001b[0m",
      "\u001b[0;31mValueError\u001b[0m                                Traceback (most recent call last)",
      "\u001b[0;32m<ipython-input-52-8f68a00b7fe9>\u001b[0m in \u001b[0;36m<module>\u001b[0;34m\u001b[0m\n\u001b[0;32m----> 1\u001b[0;31m \u001b[0mfi\u001b[0m \u001b[0;34m=\u001b[0m \u001b[0mrf_feat_importance\u001b[0m\u001b[0;34m(\u001b[0m\u001b[0mm\u001b[0m\u001b[0;34m,\u001b[0m \u001b[0mdf_trn\u001b[0m\u001b[0;34m)\u001b[0m\u001b[0;34m;\u001b[0m \u001b[0mfi\u001b[0m\u001b[0;34m[\u001b[0m\u001b[0;34m:\u001b[0m\u001b[0;36m10\u001b[0m\u001b[0;34m]\u001b[0m\u001b[0;34m\u001b[0m\u001b[0;34m\u001b[0m\u001b[0m\n\u001b[0m",
      "\u001b[0;32m~/Desktop/fastai/courses/ml1/fastai/structured.py\u001b[0m in \u001b[0;36mrf_feat_importance\u001b[0;34m(m, df)\u001b[0m\n\u001b[1;32m    394\u001b[0m \u001b[0;34m\u001b[0m\u001b[0m\n\u001b[1;32m    395\u001b[0m \u001b[0;32mdef\u001b[0m \u001b[0mrf_feat_importance\u001b[0m\u001b[0;34m(\u001b[0m\u001b[0mm\u001b[0m\u001b[0;34m,\u001b[0m \u001b[0mdf\u001b[0m\u001b[0;34m)\u001b[0m\u001b[0;34m:\u001b[0m\u001b[0;34m\u001b[0m\u001b[0;34m\u001b[0m\u001b[0m\n\u001b[0;32m--> 396\u001b[0;31m     return pd.DataFrame({'cols':df.columns, 'imp':m.feature_importances_}\n\u001b[0m\u001b[1;32m    397\u001b[0m                        ).sort_values('imp', ascending=False)\n\u001b[1;32m    398\u001b[0m \u001b[0;34m\u001b[0m\u001b[0m\n",
      "\u001b[0;32m~/anaconda3/envs/fastai-cpu/lib/python3.6/site-packages/pandas/core/frame.py\u001b[0m in \u001b[0;36m__init__\u001b[0;34m(self, data, index, columns, dtype, copy)\u001b[0m\n\u001b[1;32m    409\u001b[0m             )\n\u001b[1;32m    410\u001b[0m         \u001b[0;32melif\u001b[0m \u001b[0misinstance\u001b[0m\u001b[0;34m(\u001b[0m\u001b[0mdata\u001b[0m\u001b[0;34m,\u001b[0m \u001b[0mdict\u001b[0m\u001b[0;34m)\u001b[0m\u001b[0;34m:\u001b[0m\u001b[0;34m\u001b[0m\u001b[0;34m\u001b[0m\u001b[0m\n\u001b[0;32m--> 411\u001b[0;31m             \u001b[0mmgr\u001b[0m \u001b[0;34m=\u001b[0m \u001b[0minit_dict\u001b[0m\u001b[0;34m(\u001b[0m\u001b[0mdata\u001b[0m\u001b[0;34m,\u001b[0m \u001b[0mindex\u001b[0m\u001b[0;34m,\u001b[0m \u001b[0mcolumns\u001b[0m\u001b[0;34m,\u001b[0m \u001b[0mdtype\u001b[0m\u001b[0;34m=\u001b[0m\u001b[0mdtype\u001b[0m\u001b[0;34m)\u001b[0m\u001b[0;34m\u001b[0m\u001b[0;34m\u001b[0m\u001b[0m\n\u001b[0m\u001b[1;32m    412\u001b[0m         \u001b[0;32melif\u001b[0m \u001b[0misinstance\u001b[0m\u001b[0;34m(\u001b[0m\u001b[0mdata\u001b[0m\u001b[0;34m,\u001b[0m \u001b[0mma\u001b[0m\u001b[0;34m.\u001b[0m\u001b[0mMaskedArray\u001b[0m\u001b[0;34m)\u001b[0m\u001b[0;34m:\u001b[0m\u001b[0;34m\u001b[0m\u001b[0;34m\u001b[0m\u001b[0m\n\u001b[1;32m    413\u001b[0m             \u001b[0;32mimport\u001b[0m \u001b[0mnumpy\u001b[0m\u001b[0;34m.\u001b[0m\u001b[0mma\u001b[0m\u001b[0;34m.\u001b[0m\u001b[0mmrecords\u001b[0m \u001b[0;32mas\u001b[0m \u001b[0mmrecords\u001b[0m\u001b[0;34m\u001b[0m\u001b[0;34m\u001b[0m\u001b[0m\n",
      "\u001b[0;32m~/anaconda3/envs/fastai-cpu/lib/python3.6/site-packages/pandas/core/internals/construction.py\u001b[0m in \u001b[0;36minit_dict\u001b[0;34m(data, index, columns, dtype)\u001b[0m\n\u001b[1;32m    255\u001b[0m             \u001b[0marr\u001b[0m \u001b[0;32mif\u001b[0m \u001b[0;32mnot\u001b[0m \u001b[0mis_datetime64tz_dtype\u001b[0m\u001b[0;34m(\u001b[0m\u001b[0marr\u001b[0m\u001b[0;34m)\u001b[0m \u001b[0;32melse\u001b[0m \u001b[0marr\u001b[0m\u001b[0;34m.\u001b[0m\u001b[0mcopy\u001b[0m\u001b[0;34m(\u001b[0m\u001b[0;34m)\u001b[0m \u001b[0;32mfor\u001b[0m \u001b[0marr\u001b[0m \u001b[0;32min\u001b[0m \u001b[0marrays\u001b[0m\u001b[0;34m\u001b[0m\u001b[0;34m\u001b[0m\u001b[0m\n\u001b[1;32m    256\u001b[0m         ]\n\u001b[0;32m--> 257\u001b[0;31m     \u001b[0;32mreturn\u001b[0m \u001b[0marrays_to_mgr\u001b[0m\u001b[0;34m(\u001b[0m\u001b[0marrays\u001b[0m\u001b[0;34m,\u001b[0m \u001b[0mdata_names\u001b[0m\u001b[0;34m,\u001b[0m \u001b[0mindex\u001b[0m\u001b[0;34m,\u001b[0m \u001b[0mcolumns\u001b[0m\u001b[0;34m,\u001b[0m \u001b[0mdtype\u001b[0m\u001b[0;34m=\u001b[0m\u001b[0mdtype\u001b[0m\u001b[0;34m)\u001b[0m\u001b[0;34m\u001b[0m\u001b[0;34m\u001b[0m\u001b[0m\n\u001b[0m\u001b[1;32m    258\u001b[0m \u001b[0;34m\u001b[0m\u001b[0m\n\u001b[1;32m    259\u001b[0m \u001b[0;34m\u001b[0m\u001b[0m\n",
      "\u001b[0;32m~/anaconda3/envs/fastai-cpu/lib/python3.6/site-packages/pandas/core/internals/construction.py\u001b[0m in \u001b[0;36marrays_to_mgr\u001b[0;34m(arrays, arr_names, index, columns, dtype)\u001b[0m\n\u001b[1;32m     75\u001b[0m     \u001b[0;31m# figure out the index, if necessary\u001b[0m\u001b[0;34m\u001b[0m\u001b[0;34m\u001b[0m\u001b[0;34m\u001b[0m\u001b[0m\n\u001b[1;32m     76\u001b[0m     \u001b[0;32mif\u001b[0m \u001b[0mindex\u001b[0m \u001b[0;32mis\u001b[0m \u001b[0;32mNone\u001b[0m\u001b[0;34m:\u001b[0m\u001b[0;34m\u001b[0m\u001b[0;34m\u001b[0m\u001b[0m\n\u001b[0;32m---> 77\u001b[0;31m         \u001b[0mindex\u001b[0m \u001b[0;34m=\u001b[0m \u001b[0mextract_index\u001b[0m\u001b[0;34m(\u001b[0m\u001b[0marrays\u001b[0m\u001b[0;34m)\u001b[0m\u001b[0;34m\u001b[0m\u001b[0;34m\u001b[0m\u001b[0m\n\u001b[0m\u001b[1;32m     78\u001b[0m     \u001b[0;32melse\u001b[0m\u001b[0;34m:\u001b[0m\u001b[0;34m\u001b[0m\u001b[0;34m\u001b[0m\u001b[0m\n\u001b[1;32m     79\u001b[0m         \u001b[0mindex\u001b[0m \u001b[0;34m=\u001b[0m \u001b[0mensure_index\u001b[0m\u001b[0;34m(\u001b[0m\u001b[0mindex\u001b[0m\u001b[0;34m)\u001b[0m\u001b[0;34m\u001b[0m\u001b[0;34m\u001b[0m\u001b[0m\n",
      "\u001b[0;32m~/anaconda3/envs/fastai-cpu/lib/python3.6/site-packages/pandas/core/internals/construction.py\u001b[0m in \u001b[0;36mextract_index\u001b[0;34m(data)\u001b[0m\n\u001b[1;32m    366\u001b[0m             \u001b[0mlengths\u001b[0m \u001b[0;34m=\u001b[0m \u001b[0mlist\u001b[0m\u001b[0;34m(\u001b[0m\u001b[0mset\u001b[0m\u001b[0;34m(\u001b[0m\u001b[0mraw_lengths\u001b[0m\u001b[0;34m)\u001b[0m\u001b[0;34m)\u001b[0m\u001b[0;34m\u001b[0m\u001b[0;34m\u001b[0m\u001b[0m\n\u001b[1;32m    367\u001b[0m             \u001b[0;32mif\u001b[0m \u001b[0mlen\u001b[0m\u001b[0;34m(\u001b[0m\u001b[0mlengths\u001b[0m\u001b[0;34m)\u001b[0m \u001b[0;34m>\u001b[0m \u001b[0;36m1\u001b[0m\u001b[0;34m:\u001b[0m\u001b[0;34m\u001b[0m\u001b[0;34m\u001b[0m\u001b[0m\n\u001b[0;32m--> 368\u001b[0;31m                 \u001b[0;32mraise\u001b[0m \u001b[0mValueError\u001b[0m\u001b[0;34m(\u001b[0m\u001b[0;34m\"arrays must all be same length\"\u001b[0m\u001b[0;34m)\u001b[0m\u001b[0;34m\u001b[0m\u001b[0;34m\u001b[0m\u001b[0m\n\u001b[0m\u001b[1;32m    369\u001b[0m \u001b[0;34m\u001b[0m\u001b[0m\n\u001b[1;32m    370\u001b[0m             \u001b[0;32mif\u001b[0m \u001b[0mhave_dicts\u001b[0m\u001b[0;34m:\u001b[0m\u001b[0;34m\u001b[0m\u001b[0;34m\u001b[0m\u001b[0m\n",
      "\u001b[0;31mValueError\u001b[0m: arrays must all be same length"
     ]
    }
   ],
   "source": [
    "fi = rf_feat_importance(m, df_trn); fi[:10]"
   ]
  },
  {
   "cell_type": "code",
   "execution_count": 105,
   "metadata": {},
   "outputs": [
    {
     "data": {
      "image/png": "[encoded data removed]",
      "text/plain": [
       "<Figure size 720x432 with 1 Axes>"
      ]
     },
     "metadata": {
      "needs_background": "light"
     },
     "output_type": "display_data"
    }
   ],
   "source": [
    "fi.plot('cols', 'imp', figsize=(10,6), legend=False, rot=45);"
   ]
  },
  {
   "cell_type": "code",
   "execution_count": 50,
   "metadata": {},
   "outputs": [],
   "source": [
    "def plot_fi(fi): return fi.plot('cols', 'imp', 'barh', figsize=(12,7), legend=False)"
   ]
  },
  {
   "cell_type": "code",
   "execution_count": 110,
   "metadata": {},
   "outputs": [
    {
     "data": {
      "image/png": "[encoded data removed]",
      "text/plain": [
       "<Figure size 864x504 with 1 Axes>"
      ]
     },
     "metadata": {
      "needs_background": "light"
     },
     "output_type": "display_data"
    }
   ],
   "source": [
    "plot_fi(fi[:30]);"
   ]
  },
  {
   "cell_type": "code",
   "execution_count": 111,
   "metadata": {},
   "outputs": [
    {
     "data": {
      "text/plain": [
       "5"
      ]
     },
     "execution_count": 111,
     "metadata": {},
     "output_type": "execute_result"
    }
   ],
   "source": [
    "to_keep = fi[fi.imp>0.005].cols; len(to_keep)"
   ]
  },
  {
   "cell_type": "code",
   "execution_count": 132,
   "metadata": {},
   "outputs": [],
   "source": [
    "df_keep = df_trn[to_keep].copy()\n",
    "X_train, X_valid = split_vals(df_keep, n_trn)"
   ]
  },
  {
   "cell_type": "code",
   "execution_count": 113,
   "metadata": {},
   "outputs": [
    {
     "name": "stdout",
     "output_type": "stream",
     "text": [
      "CPU times: user 52.1 s, sys: 695 ms, total: 52.8 s\n",
      "Wall time: 16.1 s\n",
      "[0.5736035337008959, 0.8482317692242481, 0.9701055767873004, 0.9347563074965224, 0.9374607737005312]\n"
     ]
    }
   ],
   "source": [
    "m = RandomForestRegressor(n_estimators=40, min_samples_leaf=3, max_features=0.5,\n",
    "                          n_jobs=-1, oob_score=True)\n",
    "%time m.fit(X_train, y_train)\n",
    "print_score(m)"
   ]
  },
  {
   "cell_type": "code",
   "execution_count": 114,
   "metadata": {},
   "outputs": [
    {
     "data": {
      "image/png": "[encoded data removed]",
      "text/plain": [
       "<Figure size 864x504 with 1 Axes>"
      ]
     },
     "metadata": {
      "needs_background": "light"
     },
     "output_type": "display_data"
    }
   ],
   "source": [
    "fi = rf_feat_importance(m, df_keep)\n",
    "plot_fi(fi);"
   ]
  },
  {
   "cell_type": "markdown",
   "metadata": {},
   "source": [
    "# One-hot encoding"
   ]
  },
  {
   "cell_type": "code",
   "execution_count": 41,
   "metadata": {},
   "outputs": [
    {
     "name": "stdout",
     "output_type": "stream",
     "text": [
      "CPU times: user 3min 42s, sys: 1.6 s, total: 3min 43s\n",
      "Wall time: 1min 2s\n",
      "[0.4441121648863128, 0.8052035898772748, 0.9820794274566228, 0.941207643395471, 0.9421486080176313]\n"
     ]
    }
   ],
   "source": [
    "df_trn2, y_trn, nas = proc_df(df_raw, 'usd_pledged_real', max_n_cat=7)\n",
    "X_train, X_valid = split_vals(df_trn2, n_trn)\n",
    "\n",
    "m = RandomForestRegressor(n_estimators=40, min_samples_leaf=3, max_features=0.5 , n_jobs=-1, oob_score=True)\n",
    "%time m.fit(X_train, y_train)\n",
    "print_score(m)"
   ]
  },
  {
   "cell_type": "code",
   "execution_count": 118,
   "metadata": {},
   "outputs": [
    {
     "data": {
      "image/png": "[encoded data removed]",
      "text/plain": [
       "<Figure size 864x504 with 1 Axes>"
      ]
     },
     "metadata": {
      "needs_background": "light"
     },
     "output_type": "display_data"
    }
   ],
   "source": [
    "fi = rf_feat_importance(m, df_trn2)\n",
    "plot_fi(fi[:25]);"
   ]
  },
  {
   "cell_type": "markdown",
   "metadata": {},
   "source": [
    "# Eliminate redundant features"
   ]
  },
  {
   "cell_type": "code",
   "execution_count": 119,
   "metadata": {},
   "outputs": [],
   "source": [
    "from scipy.cluster import hierarchy as hc"
   ]
  },
  {
   "cell_type": "code",
   "execution_count": 120,
   "metadata": {},
   "outputs": [
    {
     "data": {
      "image/png": "[encoded data removed]",
      "text/plain": [
       "<Figure size 1152x720 with 1 Axes>"
      ]
     },
     "metadata": {
      "needs_background": "light"
     },
     "output_type": "display_data"
    }
   ],
   "source": [
    "corr = np.round(scipy.stats.spearmanr(df_keep).correlation, 4)\n",
    "corr_condensed = hc.distance.squareform(1-corr)\n",
    "z = hc.linkage(corr_condensed, method='average')\n",
    "fig = plt.figure(figsize=(16,10))\n",
    "dendrogram = hc.dendrogram(z, labels=df_keep.columns, orientation='left', leaf_font_size=16)\n",
    "plt.show()"
   ]
  },
  {
   "cell_type": "code",
   "execution_count": 122,
   "metadata": {},
   "outputs": [],
   "source": [
    "def get_oob(df):\n",
    "    m = RandomForestRegressor(n_estimators=40, min_samples_leaf=3, max_features=0.5, n_jobs=-1, oob_score=True)\n",
    "    x, _ = split_vals(df, n_trn)\n",
    "    m.fit(x, y_train)\n",
    "    return m.oob_score_"
   ]
  },
  {
   "cell_type": "code",
   "execution_count": 123,
   "metadata": {},
   "outputs": [
    {
     "data": {
      "text/plain": [
       "0.9375465535692823"
      ]
     },
     "execution_count": 123,
     "metadata": {},
     "output_type": "execute_result"
    }
   ],
   "source": [
    "get_oob(df_keep)"
   ]
  },
  {
   "cell_type": "markdown",
   "metadata": {},
   "source": [
    "Try dropping off some variables and see how this affect our model"
   ]
  },
  {
   "cell_type": "code",
   "execution_count": 133,
   "metadata": {},
   "outputs": [
    {
     "name": "stdout",
     "output_type": "stream",
     "text": [
      "backers 0.48591803764719677\n",
      "state 0.9058605784774112\n",
      "usd_goal_real 0.9153845636123552\n",
      "launchedElapsed 0.936946139052685\n",
      "deadlineElapsed 0.9359306091934949\n"
     ]
    }
   ],
   "source": [
    "for c in ('backers', 'state', 'usd_goal_real', 'launchedElapsed', 'deadlineElapsed'):\n",
    "    print(c, get_oob(df_keep.drop(c, axis=1)))"
   ]
  },
  {
   "cell_type": "markdown",
   "metadata": {},
   "source": [
    "Removing variables didn't really improve anything for us in this case. Might want to look at it all over again"
   ]
  },
  {
   "cell_type": "code",
   "execution_count": 42,
   "metadata": {},
   "outputs": [],
   "source": [
    "reset_rf_samples()"
   ]
  },
  {
   "cell_type": "code",
   "execution_count": 43,
   "metadata": {},
   "outputs": [
    {
     "name": "stdout",
     "output_type": "stream",
     "text": [
      "CPU times: user 3min 56s, sys: 3.42 s, total: 3min 59s\n",
      "Wall time: 2min 39s\n",
      "[0.44472780879030627, 0.8078684178393399, 0.9820297087636094, 0.9408178518678396, 0.9418857971506809]\n"
     ]
    }
   ],
   "source": [
    "m = RandomForestRegressor(n_estimators=40, min_samples_leaf=3, max_features=0.5, n_jobs=-1, oob_score=True)\n",
    "%time m.fit(X_train, y_train)\n",
    "print_score(m)"
   ]
  },
  {
   "cell_type": "markdown",
   "metadata": {},
   "source": [
    "# Partial Dependence"
   ]
  },
  {
   "cell_type": "code",
   "execution_count": 46,
   "metadata": {},
   "outputs": [
    {
     "name": "stderr",
     "output_type": "stream",
     "text": [
      "[autoreload of matplotlib failed: Traceback (most recent call last):\n",
      "  File \"/Users/maxvu/anaconda3/envs/fastai-cpu/lib/python3.6/site-packages/IPython/extensions/autoreload.py\", line 245, in check\n",
      "    superreload(m, reload, self.old_objects)\n",
      "  File \"/Users/maxvu/anaconda3/envs/fastai-cpu/lib/python3.6/site-packages/IPython/extensions/autoreload.py\", line 394, in superreload\n",
      "    module = reload(module)\n",
      "  File \"/Users/maxvu/anaconda3/envs/fastai-cpu/lib/python3.6/imp.py\", line 315, in reload\n",
      "    return importlib.reload(module)\n",
      "  File \"/Users/maxvu/anaconda3/envs/fastai-cpu/lib/python3.6/importlib/__init__.py\", line 166, in reload\n",
      "    _bootstrap._exec(spec, module)\n",
      "  File \"<frozen importlib._bootstrap>\", line 618, in _exec\n",
      "  File \"<frozen importlib._bootstrap_external>\", line 678, in exec_module\n",
      "  File \"<frozen importlib._bootstrap>\", line 219, in _call_with_frames_removed\n",
      "  File \"/Users/maxvu/anaconda3/envs/fastai-cpu/lib/python3.6/site-packages/matplotlib/__init__.py\", line 729, in <module>\n",
      "    class RcParams(MutableMapping, dict):\n",
      "  File \"/Users/maxvu/anaconda3/envs/fastai-cpu/lib/python3.6/site-packages/matplotlib/__init__.py\", line 743, in RcParams\n",
      "    @property\n",
      "  File \"/Users/maxvu/anaconda3/envs/fastai-cpu/lib/python3.6/site-packages/matplotlib/cbook/deprecation.py\", line 167, in deprecate\n",
      "    removal : str, optional\n",
      "AttributeError: 'property' object has no attribute '__name__'\n",
      "]\n",
      "[autoreload of matplotlib.cbook failed: Traceback (most recent call last):\n",
      "  File \"/Users/maxvu/anaconda3/envs/fastai-cpu/lib/python3.6/site-packages/IPython/extensions/autoreload.py\", line 245, in check\n",
      "    superreload(m, reload, self.old_objects)\n",
      "  File \"/Users/maxvu/anaconda3/envs/fastai-cpu/lib/python3.6/site-packages/IPython/extensions/autoreload.py\", line 394, in superreload\n",
      "    module = reload(module)\n",
      "  File \"/Users/maxvu/anaconda3/envs/fastai-cpu/lib/python3.6/imp.py\", line 315, in reload\n",
      "    return importlib.reload(module)\n",
      "  File \"/Users/maxvu/anaconda3/envs/fastai-cpu/lib/python3.6/importlib/__init__.py\", line 166, in reload\n",
      "    _bootstrap._exec(spec, module)\n",
      "  File \"<frozen importlib._bootstrap>\", line 618, in _exec\n",
      "  File \"<frozen importlib._bootstrap_external>\", line 678, in exec_module\n",
      "  File \"<frozen importlib._bootstrap>\", line 219, in _call_with_frames_removed\n",
      "  File \"/Users/maxvu/anaconda3/envs/fastai-cpu/lib/python3.6/site-packages/matplotlib/cbook/__init__.py\", line 34, in <module>\n",
      "    from .deprecation import (\n",
      "ImportError: cannot import name '_rename_parameter'\n",
      "]\n",
      "[autoreload of matplotlib.compat.subprocess failed: Traceback (most recent call last):\n",
      "  File \"/Users/maxvu/anaconda3/envs/fastai-cpu/lib/python3.6/site-packages/IPython/extensions/autoreload.py\", line 245, in check\n",
      "    superreload(m, reload, self.old_objects)\n",
      "  File \"/Users/maxvu/anaconda3/envs/fastai-cpu/lib/python3.6/site-packages/IPython/extensions/autoreload.py\", line 394, in superreload\n",
      "    module = reload(module)\n",
      "  File \"/Users/maxvu/anaconda3/envs/fastai-cpu/lib/python3.6/imp.py\", line 315, in reload\n",
      "    return importlib.reload(module)\n",
      "  File \"/Users/maxvu/anaconda3/envs/fastai-cpu/lib/python3.6/importlib/__init__.py\", line 166, in reload\n",
      "    _bootstrap._exec(spec, module)\n",
      "  File \"<frozen importlib._bootstrap>\", line 618, in _exec\n",
      "  File \"<frozen importlib._bootstrap_external>\", line 678, in exec_module\n",
      "  File \"<frozen importlib._bootstrap>\", line 219, in _call_with_frames_removed\n",
      "  File \"/Users/maxvu/anaconda3/envs/fastai-cpu/lib/python3.6/site-packages/matplotlib/compat/subprocess.py\", line 18, in <module>\n",
      "    obj_type='module')\n",
      "TypeError: warn_deprecated() missing 4 required keyword-only arguments: 'message', 'pending', 'addendum', and 'removal'\n",
      "]\n",
      "[autoreload of matplotlib.rcsetup failed: Traceback (most recent call last):\n",
      "  File \"/Users/maxvu/anaconda3/envs/fastai-cpu/lib/python3.6/site-packages/IPython/extensions/autoreload.py\", line 245, in check\n",
      "    superreload(m, reload, self.old_objects)\n",
      "  File \"/Users/maxvu/anaconda3/envs/fastai-cpu/lib/python3.6/site-packages/IPython/extensions/autoreload.py\", line 394, in superreload\n",
      "    module = reload(module)\n",
      "  File \"/Users/maxvu/anaconda3/envs/fastai-cpu/lib/python3.6/imp.py\", line 315, in reload\n",
      "    return importlib.reload(module)\n",
      "  File \"/Users/maxvu/anaconda3/envs/fastai-cpu/lib/python3.6/importlib/__init__.py\", line 166, in reload\n",
      "    _bootstrap._exec(spec, module)\n",
      "  File \"<frozen importlib._bootstrap>\", line 618, in _exec\n",
      "  File \"<frozen importlib._bootstrap_external>\", line 678, in exec_module\n",
      "  File \"<frozen importlib._bootstrap>\", line 219, in _call_with_frames_removed\n",
      "  File \"/Users/maxvu/anaconda3/envs/fastai-cpu/lib/python3.6/site-packages/matplotlib/rcsetup.py\", line 270, in <module>\n",
      "    @cbook.deprecated(\"3.1\")\n",
      "TypeError: deprecated() missing 7 required keyword-only arguments: 'message', 'name', 'alternative', 'pending', 'obj_type', 'addendum', and 'removal'\n",
      "]\n",
      "[autoreload of matplotlib.colors failed: Traceback (most recent call last):\n",
      "  File \"/Users/maxvu/anaconda3/envs/fastai-cpu/lib/python3.6/site-packages/IPython/extensions/autoreload.py\", line 245, in check\n",
      "    superreload(m, reload, self.old_objects)\n",
      "  File \"/Users/maxvu/anaconda3/envs/fastai-cpu/lib/python3.6/site-packages/IPython/extensions/autoreload.py\", line 410, in superreload\n",
      "    update_generic(old_obj, new_obj)\n",
      "  File \"/Users/maxvu/anaconda3/envs/fastai-cpu/lib/python3.6/site-packages/IPython/extensions/autoreload.py\", line 347, in update_generic\n",
      "    update(a, b)\n",
      "  File \"/Users/maxvu/anaconda3/envs/fastai-cpu/lib/python3.6/site-packages/IPython/extensions/autoreload.py\", line 302, in update_class\n",
      "    if update_generic(old_obj, new_obj): continue\n",
      "  File \"/Users/maxvu/anaconda3/envs/fastai-cpu/lib/python3.6/site-packages/IPython/extensions/autoreload.py\", line 347, in update_generic\n",
      "    update(a, b)\n",
      "  File \"/Users/maxvu/anaconda3/envs/fastai-cpu/lib/python3.6/site-packages/IPython/extensions/autoreload.py\", line 266, in update_function\n",
      "    setattr(old, name, getattr(new, name))\n",
      "ValueError: autoscale() requires a code object with 0 free vars, not 1\n",
      "]\n",
      "[autoreload of matplotlib.pyplot failed: Traceback (most recent call last):\n",
      "  File \"/Users/maxvu/anaconda3/envs/fastai-cpu/lib/python3.6/site-packages/IPython/extensions/autoreload.py\", line 245, in check\n",
      "    superreload(m, reload, self.old_objects)\n",
      "  File \"/Users/maxvu/anaconda3/envs/fastai-cpu/lib/python3.6/site-packages/IPython/extensions/autoreload.py\", line 394, in superreload\n",
      "    module = reload(module)\n",
      "  File \"/Users/maxvu/anaconda3/envs/fastai-cpu/lib/python3.6/imp.py\", line 315, in reload\n",
      "    return importlib.reload(module)\n",
      "  File \"/Users/maxvu/anaconda3/envs/fastai-cpu/lib/python3.6/importlib/__init__.py\", line 166, in reload\n",
      "    _bootstrap._exec(spec, module)\n",
      "  File \"<frozen importlib._bootstrap>\", line 618, in _exec\n",
      "  File \"<frozen importlib._bootstrap_external>\", line 678, in exec_module\n",
      "  File \"<frozen importlib._bootstrap>\", line 219, in _call_with_frames_removed\n",
      "  File \"/Users/maxvu/anaconda3/envs/fastai-cpu/lib/python3.6/site-packages/matplotlib/pyplot.py\", line 70, in <module>\n",
      "    from matplotlib.backends import pylab_setup, _get_running_interactive_framework\n",
      "ImportError: cannot import name '_get_running_interactive_framework'\n",
      "]\n",
      "[autoreload of matplotlib.colorbar failed: Traceback (most recent call last):\n",
      "  File \"/Users/maxvu/anaconda3/envs/fastai-cpu/lib/python3.6/site-packages/IPython/extensions/autoreload.py\", line 245, in check\n",
      "    superreload(m, reload, self.old_objects)\n",
      "  File \"/Users/maxvu/anaconda3/envs/fastai-cpu/lib/python3.6/site-packages/IPython/extensions/autoreload.py\", line 394, in superreload\n",
      "    module = reload(module)\n",
      "  File \"/Users/maxvu/anaconda3/envs/fastai-cpu/lib/python3.6/imp.py\", line 315, in reload\n",
      "    return importlib.reload(module)\n",
      "  File \"/Users/maxvu/anaconda3/envs/fastai-cpu/lib/python3.6/importlib/__init__.py\", line 166, in reload\n",
      "    _bootstrap._exec(spec, module)\n",
      "  File \"<frozen importlib._bootstrap>\", line 618, in _exec\n",
      "  File \"<frozen importlib._bootstrap_external>\", line 678, in exec_module\n",
      "  File \"<frozen importlib._bootstrap>\", line 219, in _call_with_frames_removed\n",
      "  File \"/Users/maxvu/anaconda3/envs/fastai-cpu/lib/python3.6/site-packages/matplotlib/colorbar.py\", line 312, in <module>\n",
      "    class _ColorbarMappableDummy(object):\n",
      "  File \"/Users/maxvu/anaconda3/envs/fastai-cpu/lib/python3.6/site-packages/matplotlib/colorbar.py\", line 317, in _ColorbarMappableDummy\n",
      "    @cbook.deprecated(\"3.1\", alternative=\"ScalarMappable.set_norm\")\n",
      "TypeError: deprecated() missing 6 required keyword-only arguments: 'message', 'name', 'pending', 'obj_type', 'addendum', and 'removal'\n",
      "]\n",
      "[autoreload of matplotlib.artist failed: Traceback (most recent call last):\n",
      "  File \"/Users/maxvu/anaconda3/envs/fastai-cpu/lib/python3.6/site-packages/IPython/extensions/autoreload.py\", line 245, in check\n",
      "    superreload(m, reload, self.old_objects)\n",
      "  File \"/Users/maxvu/anaconda3/envs/fastai-cpu/lib/python3.6/site-packages/IPython/extensions/autoreload.py\", line 394, in superreload\n",
      "    module = reload(module)\n",
      "  File \"/Users/maxvu/anaconda3/envs/fastai-cpu/lib/python3.6/imp.py\", line 315, in reload\n",
      "    return importlib.reload(module)\n",
      "  File \"/Users/maxvu/anaconda3/envs/fastai-cpu/lib/python3.6/importlib/__init__.py\", line 166, in reload\n",
      "    _bootstrap._exec(spec, module)\n",
      "  File \"<frozen importlib._bootstrap>\", line 618, in _exec\n",
      "  File \"<frozen importlib._bootstrap_external>\", line 678, in exec_module\n",
      "  File \"<frozen importlib._bootstrap>\", line 219, in _call_with_frames_removed\n",
      "  File \"/Users/maxvu/anaconda3/envs/fastai-cpu/lib/python3.6/site-packages/matplotlib/artist.py\", line 57, in <module>\n",
      "    class Artist(object):\n",
      "  File \"/Users/maxvu/anaconda3/envs/fastai-cpu/lib/python3.6/site-packages/matplotlib/artist.py\", line 63, in Artist\n",
      "    @cbook.deprecated(\"3.1\")\n",
      "TypeError: deprecated() missing 7 required keyword-only arguments: 'message', 'name', 'alternative', 'pending', 'obj_type', 'addendum', and 'removal'\n",
      "]\n",
      "[autoreload of matplotlib.docstring failed: Traceback (most recent call last):\n",
      "  File \"/Users/maxvu/anaconda3/envs/fastai-cpu/lib/python3.6/site-packages/IPython/extensions/autoreload.py\", line 245, in check\n",
      "    superreload(m, reload, self.old_objects)\n",
      "  File \"/Users/maxvu/anaconda3/envs/fastai-cpu/lib/python3.6/site-packages/IPython/extensions/autoreload.py\", line 394, in superreload\n",
      "    module = reload(module)\n",
      "  File \"/Users/maxvu/anaconda3/envs/fastai-cpu/lib/python3.6/imp.py\", line 315, in reload\n",
      "    return importlib.reload(module)\n",
      "  File \"/Users/maxvu/anaconda3/envs/fastai-cpu/lib/python3.6/importlib/__init__.py\", line 166, in reload\n",
      "    _bootstrap._exec(spec, module)\n",
      "  File \"<frozen importlib._bootstrap>\", line 618, in _exec\n",
      "  File \"<frozen importlib._bootstrap_external>\", line 678, in exec_module\n",
      "  File \"<frozen importlib._bootstrap>\", line 219, in _call_with_frames_removed\n",
      "  File \"/Users/maxvu/anaconda3/envs/fastai-cpu/lib/python3.6/site-packages/matplotlib/docstring.py\", line 62, in <module>\n",
      "    @cbook.deprecated(\"3.1\")\n",
      "TypeError: deprecated() missing 7 required keyword-only arguments: 'message', 'name', 'alternative', 'pending', 'obj_type', 'addendum', and 'removal'\n",
      "]\n"
     ]
    },
    {
     "name": "stderr",
     "output_type": "stream",
     "text": [
      "[autoreload of matplotlib.path failed: Traceback (most recent call last):\n",
      "  File \"/Users/maxvu/anaconda3/envs/fastai-cpu/lib/python3.6/site-packages/IPython/extensions/autoreload.py\", line 245, in check\n",
      "    superreload(m, reload, self.old_objects)\n",
      "  File \"/Users/maxvu/anaconda3/envs/fastai-cpu/lib/python3.6/site-packages/IPython/extensions/autoreload.py\", line 394, in superreload\n",
      "    module = reload(module)\n",
      "  File \"/Users/maxvu/anaconda3/envs/fastai-cpu/lib/python3.6/imp.py\", line 315, in reload\n",
      "    return importlib.reload(module)\n",
      "  File \"/Users/maxvu/anaconda3/envs/fastai-cpu/lib/python3.6/importlib/__init__.py\", line 166, in reload\n",
      "    _bootstrap._exec(spec, module)\n",
      "  File \"<frozen importlib._bootstrap>\", line 618, in _exec\n",
      "  File \"<frozen importlib._bootstrap_external>\", line 678, in exec_module\n",
      "  File \"<frozen importlib._bootstrap>\", line 219, in _call_with_frames_removed\n",
      "  File \"/Users/maxvu/anaconda3/envs/fastai-cpu/lib/python3.6/site-packages/matplotlib/path.py\", line 21, in <module>\n",
      "    class Path(object):\n",
      "  File \"/Users/maxvu/anaconda3/envs/fastai-cpu/lib/python3.6/site-packages/matplotlib/path.py\", line 243, in Path\n",
      "    \"3.1\", alternative=\"not np.isfinite(self.vertices).all()\")\n",
      "TypeError: deprecated() missing 6 required keyword-only arguments: 'message', 'name', 'pending', 'obj_type', 'addendum', and 'removal'\n",
      "]\n",
      "[autoreload of matplotlib.collections failed: Traceback (most recent call last):\n",
      "  File \"/Users/maxvu/anaconda3/envs/fastai-cpu/lib/python3.6/site-packages/IPython/extensions/autoreload.py\", line 245, in check\n",
      "    superreload(m, reload, self.old_objects)\n",
      "  File \"/Users/maxvu/anaconda3/envs/fastai-cpu/lib/python3.6/site-packages/IPython/extensions/autoreload.py\", line 394, in superreload\n",
      "    module = reload(module)\n",
      "  File \"/Users/maxvu/anaconda3/envs/fastai-cpu/lib/python3.6/imp.py\", line 315, in reload\n",
      "    return importlib.reload(module)\n",
      "  File \"/Users/maxvu/anaconda3/envs/fastai-cpu/lib/python3.6/importlib/__init__.py\", line 166, in reload\n",
      "    _bootstrap._exec(spec, module)\n",
      "  File \"<frozen importlib._bootstrap>\", line 618, in _exec\n",
      "  File \"<frozen importlib._bootstrap_external>\", line 678, in exec_module\n",
      "  File \"<frozen importlib._bootstrap>\", line 219, in _call_with_frames_removed\n",
      "  File \"/Users/maxvu/anaconda3/envs/fastai-cpu/lib/python3.6/site-packages/matplotlib/collections.py\", line 22, in <module>\n",
      "    @cbook._define_aliases({\n",
      "AttributeError: module 'matplotlib.cbook' has no attribute '_define_aliases'\n",
      "]\n",
      "[autoreload of matplotlib.lines failed: Traceback (most recent call last):\n",
      "  File \"/Users/maxvu/anaconda3/envs/fastai-cpu/lib/python3.6/site-packages/IPython/extensions/autoreload.py\", line 245, in check\n",
      "    superreload(m, reload, self.old_objects)\n",
      "  File \"/Users/maxvu/anaconda3/envs/fastai-cpu/lib/python3.6/site-packages/IPython/extensions/autoreload.py\", line 394, in superreload\n",
      "    module = reload(module)\n",
      "  File \"/Users/maxvu/anaconda3/envs/fastai-cpu/lib/python3.6/imp.py\", line 315, in reload\n",
      "    return importlib.reload(module)\n",
      "  File \"/Users/maxvu/anaconda3/envs/fastai-cpu/lib/python3.6/importlib/__init__.py\", line 166, in reload\n",
      "    _bootstrap._exec(spec, module)\n",
      "  File \"<frozen importlib._bootstrap>\", line 618, in _exec\n",
      "  File \"<frozen importlib._bootstrap_external>\", line 678, in exec_module\n",
      "  File \"<frozen importlib._bootstrap>\", line 219, in _call_with_frames_removed\n",
      "  File \"/Users/maxvu/anaconda3/envs/fastai-cpu/lib/python3.6/site-packages/matplotlib/lines.py\", line 204, in <module>\n",
      "    @cbook._define_aliases({\n",
      "AttributeError: module 'matplotlib.cbook' has no attribute '_define_aliases'\n",
      "]\n",
      "[autoreload of matplotlib.contour failed: Traceback (most recent call last):\n",
      "  File \"/Users/maxvu/anaconda3/envs/fastai-cpu/lib/python3.6/site-packages/IPython/extensions/autoreload.py\", line 245, in check\n",
      "    superreload(m, reload, self.old_objects)\n",
      "  File \"/Users/maxvu/anaconda3/envs/fastai-cpu/lib/python3.6/site-packages/IPython/extensions/autoreload.py\", line 394, in superreload\n",
      "    module = reload(module)\n",
      "  File \"/Users/maxvu/anaconda3/envs/fastai-cpu/lib/python3.6/imp.py\", line 315, in reload\n",
      "    return importlib.reload(module)\n",
      "  File \"/Users/maxvu/anaconda3/envs/fastai-cpu/lib/python3.6/importlib/__init__.py\", line 166, in reload\n",
      "    _bootstrap._exec(spec, module)\n",
      "  File \"<frozen importlib._bootstrap>\", line 618, in _exec\n",
      "  File \"<frozen importlib._bootstrap_external>\", line 678, in exec_module\n",
      "  File \"<frozen importlib._bootstrap>\", line 219, in _call_with_frames_removed\n",
      "  File \"/Users/maxvu/anaconda3/envs/fastai-cpu/lib/python3.6/site-packages/matplotlib/contour.py\", line 50, in <module>\n",
      "    class ContourLabeler(object):\n",
      "  File \"/Users/maxvu/anaconda3/envs/fastai-cpu/lib/python3.6/site-packages/matplotlib/contour.py\", line 217, in ContourLabeler\n",
      "    cl = cbook.deprecated(\"3.0\", alternative=\"labelTexts\")(property(\n",
      "TypeError: deprecated() missing 6 required keyword-only arguments: 'message', 'name', 'pending', 'obj_type', 'addendum', and 'removal'\n",
      "]\n",
      "[autoreload of matplotlib.ticker failed: Traceback (most recent call last):\n",
      "  File \"/Users/maxvu/anaconda3/envs/fastai-cpu/lib/python3.6/site-packages/IPython/extensions/autoreload.py\", line 245, in check\n",
      "    superreload(m, reload, self.old_objects)\n",
      "  File \"/Users/maxvu/anaconda3/envs/fastai-cpu/lib/python3.6/site-packages/IPython/extensions/autoreload.py\", line 394, in superreload\n",
      "    module = reload(module)\n",
      "  File \"/Users/maxvu/anaconda3/envs/fastai-cpu/lib/python3.6/imp.py\", line 315, in reload\n",
      "    return importlib.reload(module)\n",
      "  File \"/Users/maxvu/anaconda3/envs/fastai-cpu/lib/python3.6/importlib/__init__.py\", line 166, in reload\n",
      "    _bootstrap._exec(spec, module)\n",
      "  File \"<frozen importlib._bootstrap>\", line 618, in _exec\n",
      "  File \"<frozen importlib._bootstrap_external>\", line 678, in exec_module\n",
      "  File \"<frozen importlib._bootstrap>\", line 219, in _call_with_frames_removed\n",
      "  File \"/Users/maxvu/anaconda3/envs/fastai-cpu/lib/python3.6/site-packages/matplotlib/ticker.py\", line 435, in <module>\n",
      "    class OldScalarFormatter(Formatter):\n",
      "  File \"/Users/maxvu/anaconda3/envs/fastai-cpu/lib/python3.6/site-packages/matplotlib/ticker.py\", line 467, in OldScalarFormatter\n",
      "    @cbook.deprecated(\"3.1\")\n",
      "TypeError: deprecated() missing 7 required keyword-only arguments: 'message', 'name', 'alternative', 'pending', 'obj_type', 'addendum', and 'removal'\n",
      "]\n",
      "[autoreload of matplotlib.font_manager failed: Traceback (most recent call last):\n",
      "  File \"/Users/maxvu/anaconda3/envs/fastai-cpu/lib/python3.6/site-packages/IPython/extensions/autoreload.py\", line 245, in check\n",
      "    superreload(m, reload, self.old_objects)\n",
      "  File \"/Users/maxvu/anaconda3/envs/fastai-cpu/lib/python3.6/site-packages/IPython/extensions/autoreload.py\", line 394, in superreload\n",
      "    module = reload(module)\n",
      "  File \"/Users/maxvu/anaconda3/envs/fastai-cpu/lib/python3.6/imp.py\", line 315, in reload\n",
      "    return importlib.reload(module)\n",
      "  File \"/Users/maxvu/anaconda3/envs/fastai-cpu/lib/python3.6/importlib/__init__.py\", line 166, in reload\n",
      "    _bootstrap._exec(spec, module)\n",
      "  File \"<frozen importlib._bootstrap>\", line 618, in _exec\n",
      "  File \"<frozen importlib._bootstrap_external>\", line 678, in exec_module\n",
      "  File \"<frozen importlib._bootstrap>\", line 219, in _call_with_frames_removed\n",
      "  File \"/Users/maxvu/anaconda3/envs/fastai-cpu/lib/python3.6/site-packages/matplotlib/font_manager.py\", line 255, in <module>\n",
      "    @cbook.deprecated(\"3.1\")\n",
      "TypeError: deprecated() missing 7 required keyword-only arguments: 'message', 'name', 'alternative', 'pending', 'obj_type', 'addendum', and 'removal'\n",
      "]\n",
      "[autoreload of matplotlib.afm failed: Traceback (most recent call last):\n",
      "  File \"/Users/maxvu/anaconda3/envs/fastai-cpu/lib/python3.6/site-packages/IPython/extensions/autoreload.py\", line 245, in check\n",
      "    superreload(m, reload, self.old_objects)\n",
      "  File \"/Users/maxvu/anaconda3/envs/fastai-cpu/lib/python3.6/site-packages/IPython/extensions/autoreload.py\", line 394, in superreload\n",
      "    module = reload(module)\n",
      "  File \"/Users/maxvu/anaconda3/envs/fastai-cpu/lib/python3.6/imp.py\", line 315, in reload\n",
      "    return importlib.reload(module)\n",
      "  File \"/Users/maxvu/anaconda3/envs/fastai-cpu/lib/python3.6/importlib/__init__.py\", line 166, in reload\n",
      "    _bootstrap._exec(spec, module)\n",
      "  File \"<frozen importlib._bootstrap>\", line 618, in _exec\n",
      "  File \"<frozen importlib._bootstrap_external>\", line 678, in exec_module\n",
      "  File \"<frozen importlib._bootstrap>\", line 219, in _call_with_frames_removed\n",
      "  File \"/Users/maxvu/anaconda3/envs/fastai-cpu/lib/python3.6/site-packages/matplotlib/afm.py\", line 371, in <module>\n",
      "    @deprecated(\"3.0\", alternative=\"the AFM class\")\n",
      "TypeError: deprecated() missing 6 required keyword-only arguments: 'message', 'name', 'pending', 'obj_type', 'addendum', and 'removal'\n",
      "]\n",
      "[autoreload of matplotlib.text failed: Traceback (most recent call last):\n",
      "  File \"/Users/maxvu/anaconda3/envs/fastai-cpu/lib/python3.6/site-packages/IPython/extensions/autoreload.py\", line 245, in check\n",
      "    superreload(m, reload, self.old_objects)\n",
      "  File \"/Users/maxvu/anaconda3/envs/fastai-cpu/lib/python3.6/site-packages/IPython/extensions/autoreload.py\", line 394, in superreload\n",
      "    module = reload(module)\n",
      "  File \"/Users/maxvu/anaconda3/envs/fastai-cpu/lib/python3.6/imp.py\", line 315, in reload\n",
      "    return importlib.reload(module)\n",
      "  File \"/Users/maxvu/anaconda3/envs/fastai-cpu/lib/python3.6/importlib/__init__.py\", line 166, in reload\n",
      "    _bootstrap._exec(spec, module)\n",
      "  File \"<frozen importlib._bootstrap>\", line 618, in _exec\n",
      "  File \"<frozen importlib._bootstrap_external>\", line 678, in exec_module\n",
      "  File \"<frozen importlib._bootstrap>\", line 219, in _call_with_frames_removed\n",
      "  File \"/Users/maxvu/anaconda3/envs/fastai-cpu/lib/python3.6/site-packages/matplotlib/text.py\", line 98, in <module>\n",
      "    @cbook._define_aliases({\n",
      "AttributeError: module 'matplotlib.cbook' has no attribute '_define_aliases'\n",
      "]\n",
      "[autoreload of matplotlib.patches failed: Traceback (most recent call last):\n",
      "  File \"/Users/maxvu/anaconda3/envs/fastai-cpu/lib/python3.6/site-packages/IPython/extensions/autoreload.py\", line 245, in check\n",
      "    superreload(m, reload, self.old_objects)\n",
      "  File \"/Users/maxvu/anaconda3/envs/fastai-cpu/lib/python3.6/site-packages/IPython/extensions/autoreload.py\", line 394, in superreload\n",
      "    module = reload(module)\n",
      "  File \"/Users/maxvu/anaconda3/envs/fastai-cpu/lib/python3.6/imp.py\", line 315, in reload\n",
      "    return importlib.reload(module)\n",
      "  File \"/Users/maxvu/anaconda3/envs/fastai-cpu/lib/python3.6/importlib/__init__.py\", line 166, in reload\n",
      "    _bootstrap._exec(spec, module)\n",
      "  File \"<frozen importlib._bootstrap>\", line 618, in _exec\n",
      "  File \"<frozen importlib._bootstrap_external>\", line 678, in exec_module\n",
      "  File \"<frozen importlib._bootstrap>\", line 219, in _call_with_frames_removed\n",
      "  File \"/Users/maxvu/anaconda3/envs/fastai-cpu/lib/python3.6/site-packages/matplotlib/patches.py\", line 20, in <module>\n",
      "    @cbook._define_aliases({\n",
      "AttributeError: module 'matplotlib.cbook' has no attribute '_define_aliases'\n",
      "]\n",
      "[autoreload of matplotlib.bezier failed: Traceback (most recent call last):\n",
      "  File \"/Users/maxvu/anaconda3/envs/fastai-cpu/lib/python3.6/site-packages/IPython/extensions/autoreload.py\", line 245, in check\n",
      "    superreload(m, reload, self.old_objects)\n",
      "  File \"/Users/maxvu/anaconda3/envs/fastai-cpu/lib/python3.6/site-packages/IPython/extensions/autoreload.py\", line 394, in superreload\n",
      "    module = reload(module)\n",
      "  File \"/Users/maxvu/anaconda3/envs/fastai-cpu/lib/python3.6/imp.py\", line 315, in reload\n",
      "    return importlib.reload(module)\n",
      "  File \"/Users/maxvu/anaconda3/envs/fastai-cpu/lib/python3.6/importlib/__init__.py\", line 166, in reload\n",
      "    _bootstrap._exec(spec, module)\n",
      "  File \"<frozen importlib._bootstrap>\", line 618, in _exec\n",
      "  File \"<frozen importlib._bootstrap_external>\", line 678, in exec_module\n",
      "  File \"<frozen importlib._bootstrap>\", line 219, in _call_with_frames_removed\n",
      "  File \"/Users/maxvu/anaconda3/envs/fastai-cpu/lib/python3.6/site-packages/matplotlib/bezier.py\", line 98, in <module>\n",
      "    @cbook._rename_parameter(\"3.1\", \"tolerence\", \"tolerance\")\n",
      "AttributeError: module 'matplotlib.cbook' has no attribute '_rename_parameter'\n",
      "]\n",
      "[autoreload of matplotlib.textpath failed: Traceback (most recent call last):\n",
      "  File \"/Users/maxvu/anaconda3/envs/fastai-cpu/lib/python3.6/site-packages/IPython/extensions/autoreload.py\", line 245, in check\n",
      "    superreload(m, reload, self.old_objects)\n",
      "  File \"/Users/maxvu/anaconda3/envs/fastai-cpu/lib/python3.6/site-packages/IPython/extensions/autoreload.py\", line 394, in superreload\n",
      "    module = reload(module)\n",
      "  File \"/Users/maxvu/anaconda3/envs/fastai-cpu/lib/python3.6/imp.py\", line 315, in reload\n",
      "    return importlib.reload(module)\n",
      "  File \"/Users/maxvu/anaconda3/envs/fastai-cpu/lib/python3.6/importlib/__init__.py\", line 166, in reload\n",
      "    _bootstrap._exec(spec, module)\n",
      "  File \"<frozen importlib._bootstrap>\", line 618, in _exec\n",
      "  File \"<frozen importlib._bootstrap_external>\", line 678, in exec_module\n",
      "  File \"<frozen importlib._bootstrap>\", line 219, in _call_with_frames_removed\n",
      "  File \"/Users/maxvu/anaconda3/envs/fastai-cpu/lib/python3.6/site-packages/matplotlib/textpath.py\", line 19, in <module>\n",
      "    class TextToPath(object):\n",
      "  File \"/Users/maxvu/anaconda3/envs/fastai-cpu/lib/python3.6/site-packages/matplotlib/textpath.py\", line 30, in TextToPath\n",
      "    @cbook.deprecated(\"3.0\")\n",
      "TypeError: deprecated() missing 7 required keyword-only arguments: 'message', 'name', 'alternative', 'pending', 'obj_type', 'addendum', and 'removal'\n",
      "]\n",
      "[autoreload of matplotlib.mathtext failed: Traceback (most recent call last):\n",
      "  File \"/Users/maxvu/anaconda3/envs/fastai-cpu/lib/python3.6/site-packages/IPython/extensions/autoreload.py\", line 245, in check\n",
      "    superreload(m, reload, self.old_objects)\n",
      "  File \"/Users/maxvu/anaconda3/envs/fastai-cpu/lib/python3.6/site-packages/IPython/extensions/autoreload.py\", line 394, in superreload\n",
      "    module = reload(module)\n",
      "  File \"/Users/maxvu/anaconda3/envs/fastai-cpu/lib/python3.6/imp.py\", line 315, in reload\n",
      "    return importlib.reload(module)\n",
      "  File \"/Users/maxvu/anaconda3/envs/fastai-cpu/lib/python3.6/importlib/__init__.py\", line 166, in reload\n",
      "    _bootstrap._exec(spec, module)\n",
      "  File \"<frozen importlib._bootstrap>\", line 618, in _exec\n",
      "  File \"<frozen importlib._bootstrap_external>\", line 678, in exec_module\n",
      "  File \"<frozen importlib._bootstrap>\", line 219, in _call_with_frames_removed\n",
      "  File \"/Users/maxvu/anaconda3/envs/fastai-cpu/lib/python3.6/site-packages/matplotlib/mathtext.py\", line 84, in <module>\n",
      "    unichr_safe = cbook.deprecated(\"3.0\")(chr)\n",
      "TypeError: deprecated() missing 7 required keyword-only arguments: 'message', 'name', 'alternative', 'pending', 'obj_type', 'addendum', and 'removal'\n",
      "]\n"
     ]
    },
    {
     "name": "stderr",
     "output_type": "stream",
     "text": [
      "[autoreload of matplotlib.image failed: Traceback (most recent call last):\n",
      "  File \"/Users/maxvu/anaconda3/envs/fastai-cpu/lib/python3.6/site-packages/IPython/extensions/autoreload.py\", line 245, in check\n",
      "    superreload(m, reload, self.old_objects)\n",
      "  File \"/Users/maxvu/anaconda3/envs/fastai-cpu/lib/python3.6/site-packages/IPython/extensions/autoreload.py\", line 394, in superreload\n",
      "    module = reload(module)\n",
      "  File \"/Users/maxvu/anaconda3/envs/fastai-cpu/lib/python3.6/imp.py\", line 315, in reload\n",
      "    return importlib.reload(module)\n",
      "  File \"/Users/maxvu/anaconda3/envs/fastai-cpu/lib/python3.6/importlib/__init__.py\", line 166, in reload\n",
      "    _bootstrap._exec(spec, module)\n",
      "  File \"<frozen importlib._bootstrap>\", line 618, in _exec\n",
      "  File \"<frozen importlib._bootstrap_external>\", line 678, in exec_module\n",
      "  File \"<frozen importlib._bootstrap>\", line 219, in _call_with_frames_removed\n",
      "  File \"/Users/maxvu/anaconda3/envs/fastai-cpu/lib/python3.6/site-packages/matplotlib/image.py\", line 1273, in <module>\n",
      "    class BboxImage(_ImageBase):\n",
      "  File \"/Users/maxvu/anaconda3/envs/fastai-cpu/lib/python3.6/site-packages/matplotlib/image.py\", line 1276, in BboxImage\n",
      "    @cbook._delete_parameter(\"3.1\", \"interp_at_native\")\n",
      "AttributeError: module 'matplotlib.cbook' has no attribute '_delete_parameter'\n",
      "]\n",
      "[autoreload of matplotlib.container failed: Traceback (most recent call last):\n",
      "  File \"/Users/maxvu/anaconda3/envs/fastai-cpu/lib/python3.6/site-packages/IPython/extensions/autoreload.py\", line 245, in check\n",
      "    superreload(m, reload, self.old_objects)\n",
      "  File \"/Users/maxvu/anaconda3/envs/fastai-cpu/lib/python3.6/site-packages/IPython/extensions/autoreload.py\", line 394, in superreload\n",
      "    module = reload(module)\n",
      "  File \"/Users/maxvu/anaconda3/envs/fastai-cpu/lib/python3.6/imp.py\", line 315, in reload\n",
      "    return importlib.reload(module)\n",
      "  File \"/Users/maxvu/anaconda3/envs/fastai-cpu/lib/python3.6/importlib/__init__.py\", line 166, in reload\n",
      "    _bootstrap._exec(spec, module)\n",
      "  File \"<frozen importlib._bootstrap>\", line 618, in _exec\n",
      "  File \"<frozen importlib._bootstrap_external>\", line 678, in exec_module\n",
      "  File \"<frozen importlib._bootstrap>\", line 219, in _call_with_frames_removed\n",
      "  File \"/Users/maxvu/anaconda3/envs/fastai-cpu/lib/python3.6/site-packages/matplotlib/container.py\", line 5, in <module>\n",
      "    class Container(tuple):\n",
      "  File \"/Users/maxvu/anaconda3/envs/fastai-cpu/lib/python3.6/site-packages/matplotlib/container.py\", line 30, in Container\n",
      "    @cbook.deprecated(\"3.0\")\n",
      "TypeError: deprecated() missing 7 required keyword-only arguments: 'message', 'name', 'alternative', 'pending', 'obj_type', 'addendum', and 'removal'\n",
      "]\n",
      "\n",
      "Bad key \"lines.markerfacecolor\" on line 11 in\n",
      "/Users/maxvu/anaconda3/envs/fastai-cpu/lib/python3.6/site-packages/matplotlib/mpl-data/stylelib/classic.mplstyle.\n",
      "You probably need to get an updated matplotlibrc file from\n",
      "http://github.com/matplotlib/matplotlib/blob/master/matplotlibrc.template\n",
      "or from the matplotlib source distribution\n",
      "\n",
      "Bad key \"lines.markeredgecolor\" on line 12 in\n",
      "/Users/maxvu/anaconda3/envs/fastai-cpu/lib/python3.6/site-packages/matplotlib/mpl-data/stylelib/classic.mplstyle.\n",
      "You probably need to get an updated matplotlibrc file from\n",
      "http://github.com/matplotlib/matplotlib/blob/master/matplotlibrc.template\n",
      "or from the matplotlib source distribution\n",
      "[autoreload of matplotlib.backend_bases failed: Traceback (most recent call last):\n",
      "  File \"/Users/maxvu/anaconda3/envs/fastai-cpu/lib/python3.6/site-packages/IPython/extensions/autoreload.py\", line 245, in check\n",
      "    superreload(m, reload, self.old_objects)\n",
      "  File \"/Users/maxvu/anaconda3/envs/fastai-cpu/lib/python3.6/site-packages/IPython/extensions/autoreload.py\", line 394, in superreload\n",
      "    module = reload(module)\n",
      "  File \"/Users/maxvu/anaconda3/envs/fastai-cpu/lib/python3.6/imp.py\", line 315, in reload\n",
      "    return importlib.reload(module)\n",
      "  File \"/Users/maxvu/anaconda3/envs/fastai-cpu/lib/python3.6/importlib/__init__.py\", line 166, in reload\n",
      "    _bootstrap._exec(spec, module)\n",
      "  File \"<frozen importlib._bootstrap>\", line 618, in _exec\n",
      "  File \"<frozen importlib._bootstrap_external>\", line 678, in exec_module\n",
      "  File \"<frozen importlib._bootstrap>\", line 219, in _call_with_frames_removed\n",
      "  File \"/Users/maxvu/anaconda3/envs/fastai-cpu/lib/python3.6/site-packages/matplotlib/backend_bases.py\", line 130, in <module>\n",
      "    class RendererBase(object):\n",
      "  File \"/Users/maxvu/anaconda3/envs/fastai-cpu/lib/python3.6/site-packages/matplotlib/backend_bases.py\", line 679, in RendererBase\n",
      "    @cbook.deprecated(\"3.1\", alternative=\"cbook.strip_math\")\n",
      "TypeError: deprecated() missing 6 required keyword-only arguments: 'message', 'name', 'pending', 'obj_type', 'addendum', and 'removal'\n",
      "]\n",
      "[autoreload of matplotlib.backend_tools failed: Traceback (most recent call last):\n",
      "  File \"/Users/maxvu/anaconda3/envs/fastai-cpu/lib/python3.6/site-packages/IPython/extensions/autoreload.py\", line 245, in check\n",
      "    superreload(m, reload, self.old_objects)\n",
      "  File \"/Users/maxvu/anaconda3/envs/fastai-cpu/lib/python3.6/site-packages/IPython/extensions/autoreload.py\", line 394, in superreload\n",
      "    module = reload(module)\n",
      "  File \"/Users/maxvu/anaconda3/envs/fastai-cpu/lib/python3.6/imp.py\", line 315, in reload\n",
      "    return importlib.reload(module)\n",
      "  File \"/Users/maxvu/anaconda3/envs/fastai-cpu/lib/python3.6/importlib/__init__.py\", line 166, in reload\n",
      "    _bootstrap._exec(spec, module)\n",
      "  File \"<frozen importlib._bootstrap>\", line 618, in _exec\n",
      "  File \"<frozen importlib._bootstrap_external>\", line 678, in exec_module\n",
      "  File \"<frozen importlib._bootstrap>\", line 219, in _call_with_frames_removed\n",
      "  File \"/Users/maxvu/anaconda3/envs/fastai-cpu/lib/python3.6/site-packages/matplotlib/backend_tools.py\", line 1034, in <module>\n",
      "    class ToolHelpBase(ToolBase):\n",
      "  File \"/Users/maxvu/anaconda3/envs/fastai-cpu/lib/python3.6/site-packages/matplotlib/backend_tools.py\", line 1036, in ToolHelpBase\n",
      "    default_keymap = rcParams['keymap.help']\n",
      "  File \"/Users/maxvu/anaconda3/envs/fastai-cpu/lib/python3.6/site-packages/matplotlib/__init__.py\", line 949, in __getitem__\n",
      "    try:\n",
      "KeyError: 'keymap.help'\n",
      "]\n",
      "[autoreload of matplotlib.widgets failed: Traceback (most recent call last):\n",
      "  File \"/Users/maxvu/anaconda3/envs/fastai-cpu/lib/python3.6/site-packages/IPython/extensions/autoreload.py\", line 245, in check\n",
      "    superreload(m, reload, self.old_objects)\n",
      "  File \"/Users/maxvu/anaconda3/envs/fastai-cpu/lib/python3.6/site-packages/IPython/extensions/autoreload.py\", line 394, in superreload\n",
      "    module = reload(module)\n",
      "  File \"/Users/maxvu/anaconda3/envs/fastai-cpu/lib/python3.6/imp.py\", line 315, in reload\n",
      "    return importlib.reload(module)\n",
      "  File \"/Users/maxvu/anaconda3/envs/fastai-cpu/lib/python3.6/importlib/__init__.py\", line 166, in reload\n",
      "    _bootstrap._exec(spec, module)\n",
      "  File \"<frozen importlib._bootstrap>\", line 618, in _exec\n",
      "  File \"<frozen importlib._bootstrap_external>\", line 678, in exec_module\n",
      "  File \"<frozen importlib._bootstrap>\", line 219, in _call_with_frames_removed\n",
      "  File \"/Users/maxvu/anaconda3/envs/fastai-cpu/lib/python3.6/site-packages/matplotlib/widgets.py\", line 1689, in <module>\n",
      "    class SpanSelector(_SelectorWidget):\n",
      "  File \"/Users/maxvu/anaconda3/envs/fastai-cpu/lib/python3.6/site-packages/matplotlib/widgets.py\", line 1863, in SpanSelector\n",
      "    @cbook.deprecated(\"3.1\")\n",
      "TypeError: deprecated() missing 7 required keyword-only arguments: 'message', 'name', 'alternative', 'pending', 'obj_type', 'addendum', and 'removal'\n",
      "]\n",
      "[autoreload of matplotlib.figure failed: Traceback (most recent call last):\n",
      "  File \"/Users/maxvu/anaconda3/envs/fastai-cpu/lib/python3.6/site-packages/IPython/extensions/autoreload.py\", line 245, in check\n",
      "    superreload(m, reload, self.old_objects)\n",
      "  File \"/Users/maxvu/anaconda3/envs/fastai-cpu/lib/python3.6/site-packages/IPython/extensions/autoreload.py\", line 394, in superreload\n",
      "    module = reload(module)\n",
      "  File \"/Users/maxvu/anaconda3/envs/fastai-cpu/lib/python3.6/imp.py\", line 315, in reload\n",
      "    return importlib.reload(module)\n",
      "  File \"/Users/maxvu/anaconda3/envs/fastai-cpu/lib/python3.6/importlib/__init__.py\", line 166, in reload\n",
      "    _bootstrap._exec(spec, module)\n",
      "  File \"<frozen importlib._bootstrap>\", line 618, in _exec\n",
      "  File \"<frozen importlib._bootstrap_external>\", line 678, in exec_module\n",
      "  File \"<frozen importlib._bootstrap>\", line 219, in _call_with_frames_removed\n",
      "  File \"/Users/maxvu/anaconda3/envs/fastai-cpu/lib/python3.6/site-packages/matplotlib/figure.py\", line 245, in <module>\n",
      "    class Figure(Artist):\n",
      "  File \"/Users/maxvu/anaconda3/envs/fastai-cpu/lib/python3.6/site-packages/matplotlib/figure.py\", line 1821, in Figure\n",
      "    @cbook._delete_parameter(\"3.1\", \"withdash\")\n",
      "AttributeError: module 'matplotlib.cbook' has no attribute '_delete_parameter'\n",
      "]\n",
      "[autoreload of matplotlib.axes._axes failed: Traceback (most recent call last):\n",
      "  File \"/Users/maxvu/anaconda3/envs/fastai-cpu/lib/python3.6/site-packages/IPython/extensions/autoreload.py\", line 245, in check\n",
      "    superreload(m, reload, self.old_objects)\n",
      "  File \"/Users/maxvu/anaconda3/envs/fastai-cpu/lib/python3.6/site-packages/IPython/extensions/autoreload.py\", line 394, in superreload\n",
      "    module = reload(module)\n",
      "  File \"/Users/maxvu/anaconda3/envs/fastai-cpu/lib/python3.6/imp.py\", line 315, in reload\n",
      "    return importlib.reload(module)\n",
      "  File \"/Users/maxvu/anaconda3/envs/fastai-cpu/lib/python3.6/importlib/__init__.py\", line 166, in reload\n",
      "    _bootstrap._exec(spec, module)\n",
      "  File \"<frozen importlib._bootstrap>\", line 618, in _exec\n",
      "  File \"<frozen importlib._bootstrap_external>\", line 678, in exec_module\n",
      "  File \"<frozen importlib._bootstrap>\", line 219, in _call_with_frames_removed\n",
      "  File \"/Users/maxvu/anaconda3/envs/fastai-cpu/lib/python3.6/site-packages/matplotlib/axes/_axes.py\", line 97, in <module>\n",
      "    class Axes(_AxesBase):\n",
      "  File \"/Users/maxvu/anaconda3/envs/fastai-cpu/lib/python3.6/site-packages/matplotlib/axes/_axes.py\", line 121, in Axes\n",
      "    @cbook.deprecated(\"3.1\")\n",
      "TypeError: deprecated() missing 7 required keyword-only arguments: 'message', 'name', 'alternative', 'pending', 'obj_type', 'addendum', and 'removal'\n",
      "]\n",
      "[autoreload of matplotlib.dates failed: Traceback (most recent call last):\n",
      "  File \"/Users/maxvu/anaconda3/envs/fastai-cpu/lib/python3.6/site-packages/IPython/extensions/autoreload.py\", line 245, in check\n",
      "    superreload(m, reload, self.old_objects)\n",
      "  File \"/Users/maxvu/anaconda3/envs/fastai-cpu/lib/python3.6/site-packages/IPython/extensions/autoreload.py\", line 394, in superreload\n",
      "    module = reload(module)\n",
      "  File \"/Users/maxvu/anaconda3/envs/fastai-cpu/lib/python3.6/imp.py\", line 315, in reload\n",
      "    return importlib.reload(module)\n",
      "  File \"/Users/maxvu/anaconda3/envs/fastai-cpu/lib/python3.6/importlib/__init__.py\", line 166, in reload\n",
      "    _bootstrap._exec(spec, module)\n",
      "  File \"<frozen importlib._bootstrap>\", line 618, in _exec\n",
      "  File \"<frozen importlib._bootstrap_external>\", line 678, in exec_module\n",
      "  File \"<frozen importlib._bootstrap>\", line 219, in _call_with_frames_removed\n",
      "  File \"/Users/maxvu/anaconda3/envs/fastai-cpu/lib/python3.6/site-packages/matplotlib/dates.py\", line 314, in <module>\n",
      "    \"3.1\", alternative=\"time.strptime or dateutil.parser.parse or datestr2num\")\n",
      "TypeError: deprecated() missing 6 required keyword-only arguments: 'message', 'name', 'pending', 'obj_type', 'addendum', and 'removal'\n",
      "]\n",
      "[autoreload of matplotlib.mlab failed: Traceback (most recent call last):\n",
      "  File \"/Users/maxvu/anaconda3/envs/fastai-cpu/lib/python3.6/site-packages/IPython/extensions/autoreload.py\", line 245, in check\n",
      "    superreload(m, reload, self.old_objects)\n",
      "  File \"/Users/maxvu/anaconda3/envs/fastai-cpu/lib/python3.6/site-packages/IPython/extensions/autoreload.py\", line 394, in superreload\n",
      "    module = reload(module)\n",
      "  File \"/Users/maxvu/anaconda3/envs/fastai-cpu/lib/python3.6/imp.py\", line 315, in reload\n",
      "    return importlib.reload(module)\n",
      "  File \"/Users/maxvu/anaconda3/envs/fastai-cpu/lib/python3.6/importlib/__init__.py\", line 166, in reload\n",
      "    _bootstrap._exec(spec, module)\n",
      "  File \"<frozen importlib._bootstrap>\", line 618, in _exec\n",
      "  File \"<frozen importlib._bootstrap_external>\", line 678, in exec_module\n",
      "  File \"<frozen importlib._bootstrap>\", line 219, in _call_with_frames_removed\n",
      "  File \"/Users/maxvu/anaconda3/envs/fastai-cpu/lib/python3.6/site-packages/matplotlib/mlab.py\", line 201, in <module>\n",
      "    @cbook.deprecated(\"3.1\", alternative=\"detrend_mean\")\n",
      "TypeError: deprecated() missing 6 required keyword-only arguments: 'message', 'name', 'pending', 'obj_type', 'addendum', and 'removal'\n",
      "]\n",
      "[autoreload of matplotlib.quiver failed: Traceback (most recent call last):\n",
      "  File \"/Users/maxvu/anaconda3/envs/fastai-cpu/lib/python3.6/site-packages/IPython/extensions/autoreload.py\", line 245, in check\n",
      "    superreload(m, reload, self.old_objects)\n",
      "  File \"/Users/maxvu/anaconda3/envs/fastai-cpu/lib/python3.6/site-packages/IPython/extensions/autoreload.py\", line 394, in superreload\n",
      "    module = reload(module)\n",
      "  File \"/Users/maxvu/anaconda3/envs/fastai-cpu/lib/python3.6/imp.py\", line 315, in reload\n",
      "    return importlib.reload(module)\n",
      "  File \"/Users/maxvu/anaconda3/envs/fastai-cpu/lib/python3.6/importlib/__init__.py\", line 166, in reload\n",
      "    _bootstrap._exec(spec, module)\n",
      "  File \"<frozen importlib._bootstrap>\", line 618, in _exec\n",
      "  File \"<frozen importlib._bootstrap_external>\", line 678, in exec_module\n",
      "  File \"<frozen importlib._bootstrap>\", line 219, in _call_with_frames_removed\n",
      "  File \"/Users/maxvu/anaconda3/envs/fastai-cpu/lib/python3.6/site-packages/matplotlib/quiver.py\", line 437, in <module>\n",
      "    class Quiver(mcollections.PolyCollection):\n",
      "  File \"/Users/maxvu/anaconda3/envs/fastai-cpu/lib/python3.6/site-packages/matplotlib/quiver.py\", line 517, in Quiver\n",
      "    @cbook.deprecated(\"3.1\", alternative=\"get_facecolor()\")\n",
      "TypeError: deprecated() missing 6 required keyword-only arguments: 'message', 'name', 'pending', 'obj_type', 'addendum', and 'removal'\n",
      "]\n"
     ]
    },
    {
     "name": "stderr",
     "output_type": "stream",
     "text": [
      "[autoreload of matplotlib.table failed: Traceback (most recent call last):\n",
      "  File \"/Users/maxvu/anaconda3/envs/fastai-cpu/lib/python3.6/site-packages/IPython/extensions/autoreload.py\", line 245, in check\n",
      "    superreload(m, reload, self.old_objects)\n",
      "  File \"/Users/maxvu/anaconda3/envs/fastai-cpu/lib/python3.6/site-packages/IPython/extensions/autoreload.py\", line 394, in superreload\n",
      "    module = reload(module)\n",
      "  File \"/Users/maxvu/anaconda3/envs/fastai-cpu/lib/python3.6/imp.py\", line 315, in reload\n",
      "    return importlib.reload(module)\n",
      "  File \"/Users/maxvu/anaconda3/envs/fastai-cpu/lib/python3.6/importlib/__init__.py\", line 166, in reload\n",
      "    _bootstrap._exec(spec, module)\n",
      "  File \"<frozen importlib._bootstrap>\", line 618, in _exec\n",
      "  File \"<frozen importlib._bootstrap_external>\", line 678, in exec_module\n",
      "  File \"<frozen importlib._bootstrap>\", line 219, in _call_with_frames_removed\n",
      "  File \"/Users/maxvu/anaconda3/envs/fastai-cpu/lib/python3.6/site-packages/matplotlib/table.py\", line 246, in <module>\n",
      "    class Table(Artist):\n",
      "  File \"/Users/maxvu/anaconda3/envs/fastai-cpu/lib/python3.6/site-packages/matplotlib/table.py\", line 457, in Table\n",
      "    get_child_artists = cbook.deprecated(\"3.0\")(get_children)\n",
      "TypeError: deprecated() missing 7 required keyword-only arguments: 'message', 'name', 'alternative', 'pending', 'obj_type', 'addendum', and 'removal'\n",
      "]\n",
      "[autoreload of matplotlib.axes._base failed: Traceback (most recent call last):\n",
      "  File \"/Users/maxvu/anaconda3/envs/fastai-cpu/lib/python3.6/site-packages/IPython/extensions/autoreload.py\", line 245, in check\n",
      "    superreload(m, reload, self.old_objects)\n",
      "  File \"/Users/maxvu/anaconda3/envs/fastai-cpu/lib/python3.6/site-packages/IPython/extensions/autoreload.py\", line 394, in superreload\n",
      "    module = reload(module)\n",
      "  File \"/Users/maxvu/anaconda3/envs/fastai-cpu/lib/python3.6/imp.py\", line 315, in reload\n",
      "    return importlib.reload(module)\n",
      "  File \"/Users/maxvu/anaconda3/envs/fastai-cpu/lib/python3.6/importlib/__init__.py\", line 166, in reload\n",
      "    _bootstrap._exec(spec, module)\n",
      "  File \"<frozen importlib._bootstrap>\", line 618, in _exec\n",
      "  File \"<frozen importlib._bootstrap_external>\", line 678, in exec_module\n",
      "  File \"<frozen importlib._bootstrap>\", line 219, in _call_with_frames_removed\n",
      "  File \"/Users/maxvu/anaconda3/envs/fastai-cpu/lib/python3.6/site-packages/matplotlib/axes/_base.py\", line 13, in <module>\n",
      "    from matplotlib.cbook import _OrderedSet, _check_1d, index_of, get_label\n",
      "ImportError: cannot import name '_OrderedSet'\n",
      "]\n",
      "[autoreload of matplotlib.axis failed: Traceback (most recent call last):\n",
      "  File \"/Users/maxvu/anaconda3/envs/fastai-cpu/lib/python3.6/site-packages/IPython/extensions/autoreload.py\", line 245, in check\n",
      "    superreload(m, reload, self.old_objects)\n",
      "  File \"/Users/maxvu/anaconda3/envs/fastai-cpu/lib/python3.6/site-packages/IPython/extensions/autoreload.py\", line 394, in superreload\n",
      "    module = reload(module)\n",
      "  File \"/Users/maxvu/anaconda3/envs/fastai-cpu/lib/python3.6/imp.py\", line 315, in reload\n",
      "    return importlib.reload(module)\n",
      "  File \"/Users/maxvu/anaconda3/envs/fastai-cpu/lib/python3.6/importlib/__init__.py\", line 166, in reload\n",
      "    _bootstrap._exec(spec, module)\n",
      "  File \"<frozen importlib._bootstrap>\", line 618, in _exec\n",
      "  File \"<frozen importlib._bootstrap_external>\", line 678, in exec_module\n",
      "  File \"<frozen importlib._bootstrap>\", line 219, in _call_with_frames_removed\n",
      "  File \"/Users/maxvu/anaconda3/envs/fastai-cpu/lib/python3.6/site-packages/matplotlib/axis.py\", line 34, in <module>\n",
      "    class Tick(martist.Artist):\n",
      "  File \"/Users/maxvu/anaconda3/envs/fastai-cpu/lib/python3.6/site-packages/matplotlib/axis.py\", line 182, in Tick\n",
      "    alternative=\"Tick.{}.get_visible\".format(_new_name))(\n",
      "TypeError: deprecated() missing 5 required keyword-only arguments: 'message', 'pending', 'obj_type', 'addendum', and 'removal'\n",
      "]\n",
      "[autoreload of matplotlib.scale failed: Traceback (most recent call last):\n",
      "  File \"/Users/maxvu/anaconda3/envs/fastai-cpu/lib/python3.6/site-packages/IPython/extensions/autoreload.py\", line 245, in check\n",
      "    superreload(m, reload, self.old_objects)\n",
      "  File \"/Users/maxvu/anaconda3/envs/fastai-cpu/lib/python3.6/site-packages/IPython/extensions/autoreload.py\", line 394, in superreload\n",
      "    module = reload(module)\n",
      "  File \"/Users/maxvu/anaconda3/envs/fastai-cpu/lib/python3.6/imp.py\", line 315, in reload\n",
      "    return importlib.reload(module)\n",
      "  File \"/Users/maxvu/anaconda3/envs/fastai-cpu/lib/python3.6/importlib/__init__.py\", line 166, in reload\n",
      "    _bootstrap._exec(spec, module)\n",
      "  File \"<frozen importlib._bootstrap>\", line 618, in _exec\n",
      "  File \"<frozen importlib._bootstrap_external>\", line 678, in exec_module\n",
      "  File \"<frozen importlib._bootstrap>\", line 219, in _call_with_frames_removed\n",
      "  File \"/Users/maxvu/anaconda3/envs/fastai-cpu/lib/python3.6/site-packages/matplotlib/scale.py\", line 198, in <module>\n",
      "    @cbook.deprecated(\"3.1\", alternative=\"LogTransform\")\n",
      "TypeError: deprecated() missing 6 required keyword-only arguments: 'message', 'name', 'pending', 'obj_type', 'addendum', and 'removal'\n",
      "]\n",
      "[autoreload of matplotlib.spines failed: Traceback (most recent call last):\n",
      "  File \"/Users/maxvu/anaconda3/envs/fastai-cpu/lib/python3.6/site-packages/IPython/extensions/autoreload.py\", line 245, in check\n",
      "    superreload(m, reload, self.old_objects)\n",
      "  File \"/Users/maxvu/anaconda3/envs/fastai-cpu/lib/python3.6/site-packages/IPython/extensions/autoreload.py\", line 394, in superreload\n",
      "    module = reload(module)\n",
      "  File \"/Users/maxvu/anaconda3/envs/fastai-cpu/lib/python3.6/imp.py\", line 315, in reload\n",
      "    return importlib.reload(module)\n",
      "  File \"/Users/maxvu/anaconda3/envs/fastai-cpu/lib/python3.6/importlib/__init__.py\", line 166, in reload\n",
      "    _bootstrap._exec(spec, module)\n",
      "  File \"<frozen importlib._bootstrap>\", line 618, in _exec\n",
      "  File \"<frozen importlib._bootstrap_external>\", line 678, in exec_module\n",
      "  File \"<frozen importlib._bootstrap>\", line 219, in _call_with_frames_removed\n",
      "  File \"/Users/maxvu/anaconda3/envs/fastai-cpu/lib/python3.6/site-packages/matplotlib/spines.py\", line 11, in <module>\n",
      "    class Spine(mpatches.Patch):\n",
      "  File \"/Users/maxvu/anaconda3/envs/fastai-cpu/lib/python3.6/site-packages/matplotlib/spines.py\", line 232, in Spine\n",
      "    @cbook.deprecated(\"3.1\")\n",
      "TypeError: deprecated() missing 7 required keyword-only arguments: 'message', 'name', 'alternative', 'pending', 'obj_type', 'addendum', and 'removal'\n",
      "]\n",
      "[autoreload of matplotlib.projections failed: Traceback (most recent call last):\n",
      "  File \"/Users/maxvu/anaconda3/envs/fastai-cpu/lib/python3.6/site-packages/IPython/extensions/autoreload.py\", line 245, in check\n",
      "    superreload(m, reload, self.old_objects)\n",
      "  File \"/Users/maxvu/anaconda3/envs/fastai-cpu/lib/python3.6/site-packages/IPython/extensions/autoreload.py\", line 394, in superreload\n",
      "    module = reload(module)\n",
      "  File \"/Users/maxvu/anaconda3/envs/fastai-cpu/lib/python3.6/imp.py\", line 315, in reload\n",
      "    return importlib.reload(module)\n",
      "  File \"/Users/maxvu/anaconda3/envs/fastai-cpu/lib/python3.6/importlib/__init__.py\", line 166, in reload\n",
      "    _bootstrap._exec(spec, module)\n",
      "  File \"<frozen importlib._bootstrap>\", line 618, in _exec\n",
      "  File \"<frozen importlib._bootstrap_external>\", line 678, in exec_module\n",
      "  File \"<frozen importlib._bootstrap>\", line 219, in _call_with_frames_removed\n",
      "  File \"/Users/maxvu/anaconda3/envs/fastai-cpu/lib/python3.6/site-packages/matplotlib/projections/__init__.py\", line 63, in <module>\n",
      "    @cbook.deprecated(\"3.1\")\n",
      "TypeError: deprecated() missing 7 required keyword-only arguments: 'message', 'name', 'alternative', 'pending', 'obj_type', 'addendum', and 'removal'\n",
      "]\n",
      "[autoreload of matplotlib.projections.polar failed: Traceback (most recent call last):\n",
      "  File \"/Users/maxvu/anaconda3/envs/fastai-cpu/lib/python3.6/site-packages/IPython/extensions/autoreload.py\", line 245, in check\n",
      "    superreload(m, reload, self.old_objects)\n",
      "  File \"/Users/maxvu/anaconda3/envs/fastai-cpu/lib/python3.6/site-packages/IPython/extensions/autoreload.py\", line 410, in superreload\n",
      "    update_generic(old_obj, new_obj)\n",
      "  File \"/Users/maxvu/anaconda3/envs/fastai-cpu/lib/python3.6/site-packages/IPython/extensions/autoreload.py\", line 347, in update_generic\n",
      "    update(a, b)\n",
      "  File \"/Users/maxvu/anaconda3/envs/fastai-cpu/lib/python3.6/site-packages/IPython/extensions/autoreload.py\", line 302, in update_class\n",
      "    if update_generic(old_obj, new_obj): continue\n",
      "  File \"/Users/maxvu/anaconda3/envs/fastai-cpu/lib/python3.6/site-packages/IPython/extensions/autoreload.py\", line 347, in update_generic\n",
      "    update(a, b)\n",
      "  File \"/Users/maxvu/anaconda3/envs/fastai-cpu/lib/python3.6/site-packages/IPython/extensions/autoreload.py\", line 266, in update_function\n",
      "    setattr(old, name, getattr(new, name))\n",
      "ValueError: __init__() requires a code object with 0 free vars, not 1\n",
      "]\n",
      "[autoreload of matplotlib.backends failed: Traceback (most recent call last):\n",
      "  File \"/Users/maxvu/anaconda3/envs/fastai-cpu/lib/python3.6/site-packages/IPython/extensions/autoreload.py\", line 245, in check\n",
      "    superreload(m, reload, self.old_objects)\n",
      "  File \"/Users/maxvu/anaconda3/envs/fastai-cpu/lib/python3.6/site-packages/IPython/extensions/autoreload.py\", line 394, in superreload\n",
      "    module = reload(module)\n",
      "  File \"/Users/maxvu/anaconda3/envs/fastai-cpu/lib/python3.6/imp.py\", line 315, in reload\n",
      "    return importlib.reload(module)\n",
      "  File \"/Users/maxvu/anaconda3/envs/fastai-cpu/lib/python3.6/importlib/__init__.py\", line 166, in reload\n",
      "    _bootstrap._exec(spec, module)\n",
      "  File \"<frozen importlib._bootstrap>\", line 618, in _exec\n",
      "  File \"<frozen importlib._bootstrap_external>\", line 678, in exec_module\n",
      "  File \"<frozen importlib._bootstrap>\", line 219, in _call_with_frames_removed\n",
      "  File \"/Users/maxvu/anaconda3/envs/fastai-cpu/lib/python3.6/site-packages/matplotlib/backends/__init__.py\", line 57, in <module>\n",
      "    @cbook.deprecated(\"3.0\")\n",
      "TypeError: deprecated() missing 7 required keyword-only arguments: 'message', 'name', 'alternative', 'pending', 'obj_type', 'addendum', and 'removal'\n",
      "]\n",
      "[autoreload of matplotlib.animation failed: Traceback (most recent call last):\n",
      "  File \"/Users/maxvu/anaconda3/envs/fastai-cpu/lib/python3.6/site-packages/IPython/extensions/autoreload.py\", line 245, in check\n",
      "    superreload(m, reload, self.old_objects)\n",
      "  File \"/Users/maxvu/anaconda3/envs/fastai-cpu/lib/python3.6/site-packages/IPython/extensions/autoreload.py\", line 394, in superreload\n",
      "    module = reload(module)\n",
      "  File \"/Users/maxvu/anaconda3/envs/fastai-cpu/lib/python3.6/imp.py\", line 315, in reload\n",
      "    return importlib.reload(module)\n",
      "  File \"/Users/maxvu/anaconda3/envs/fastai-cpu/lib/python3.6/importlib/__init__.py\", line 166, in reload\n",
      "    _bootstrap._exec(spec, module)\n",
      "  File \"<frozen importlib._bootstrap>\", line 618, in _exec\n",
      "  File \"<frozen importlib._bootstrap_external>\", line 678, in exec_module\n",
      "  File \"<frozen importlib._bootstrap>\", line 219, in _call_with_frames_removed\n",
      "  File \"/Users/maxvu/anaconda3/envs/fastai-cpu/lib/python3.6/site-packages/matplotlib/animation.py\", line 37, in <module>\n",
      "    from matplotlib._animation_data import (\n",
      "ImportError: cannot import name 'STYLE_INCLUDE'\n",
      "]\n"
     ]
    }
   ],
   "source": [
    "from pdpbox import pdp\n",
    "from plotnine import *"
   ]
  },
  {
   "cell_type": "code",
   "execution_count": 47,
   "metadata": {},
   "outputs": [],
   "source": [
    "set_rf_samples(50000)"
   ]
  },
  {
   "cell_type": "code",
   "execution_count": 48,
   "metadata": {},
   "outputs": [
    {
     "name": "stdout",
     "output_type": "stream",
     "text": [
      "CPU times: user 3min 43s, sys: 1.79 s, total: 3min 44s\n",
      "Wall time: 1min 3s\n",
      "[0.4438697241938871, 0.803760738810863, 0.9820989877861109, 0.9414181556508469, 0.9422190582531673]\n"
     ]
    }
   ],
   "source": [
    "df_trn2, y_trn, nas = proc_df(df_raw, 'usd_pledged_real', max_n_cat=7)\n",
    "X_train, X_valid = split_vals(df_trn2, n_trn)\n",
    "\n",
    "m = RandomForestRegressor(n_estimators=40, min_samples_leaf=3, max_features=0.5 , n_jobs=-1, oob_score=True)\n",
    "%time m.fit(X_train, y_train)\n",
    "print_score(m)"
   ]
  },
  {
   "cell_type": "code",
   "execution_count": null,
   "metadata": {},
   "outputs": [],
   "source": []
  }
 ],
 "metadata": {
  "kernelspec": {
   "display_name": "Python 3",
   "language": "python",
   "name": "python3"
  },
  "language_info": {
   "codemirror_mode": {
    "name": "ipython",
    "version": 3
   },
   "file_extension": ".py",
   "mimetype": "text/x-python",
   "name": "python",
   "nbconvert_exporter": "python",
   "pygments_lexer": "ipython3",
   "version": "3.7.3"
  }
 },
 "nbformat": 4,
 "nbformat_minor": 2
}
